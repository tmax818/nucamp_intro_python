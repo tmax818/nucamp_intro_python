{
 "cells": [
  {
   "cell_type": "markdown",
   "id": "c832f8c1",
   "metadata": {},
   "source": [
    "# lecture 5\n",
    "\n",
    "[visualgo](https://visualgo.net/en)"
   ]
  },
  {
   "cell_type": "markdown",
   "id": "f9f6b0c2",
   "metadata": {},
   "source": [
    "# Searching"
   ]
  },
  {
   "cell_type": "markdown",
   "id": "b6dc2be5",
   "metadata": {},
   "source": [
    "# Linear (Sequential) Search\n",
    "\n",
    "- pro: sorting doesn't matter\n",
    "- con: inefficient"
   ]
  },
  {
   "cell_type": "code",
   "execution_count": null,
   "id": "acc18396",
   "metadata": {},
   "outputs": [],
   "source": [
    "test_list = [0, 1, 2, 3, 4, 5, 6, 7, 8, 9, 10, 11, 12, 13, 14, 15, 16, 17, 18, 19, 20]"
   ]
  },
  {
   "cell_type": "code",
   "execution_count": null,
   "id": "b43c92ec",
   "metadata": {},
   "outputs": [],
   "source": [
    "\n",
    "def linear_search(the_list, target):\n",
    "    count = 0\n",
    "    for item in the_list:\n",
    "        count += 1\n",
    "        if item == target:\n",
    "            print(f\"Found {target} in {count} steps\")"
   ]
  },
  {
   "cell_type": "code",
   "execution_count": null,
   "id": "b0a0e843",
   "metadata": {},
   "outputs": [],
   "source": [
    "linear_search(test_list, 3)"
   ]
  },
  {
   "cell_type": "code",
   "execution_count": null,
   "id": "d81d9a64",
   "metadata": {},
   "outputs": [],
   "source": [
    "\n",
    "    "
   ]
  },
  {
   "cell_type": "code",
   "execution_count": null,
   "id": "85d09635",
   "metadata": {},
   "outputs": [],
   "source": []
  },
  {
   "cell_type": "markdown",
   "id": "4a9dcb94",
   "metadata": {},
   "source": [
    "# Binary Search\n",
    "\n",
    "- pro: more efficient\n",
    "- con: sort dependent"
   ]
  },
  {
   "cell_type": "code",
   "execution_count": null,
   "id": "3b42928c",
   "metadata": {},
   "outputs": [],
   "source": [
    "import time\n",
    "\n",
    "def binary_search(the_list, target):\n",
    "    found = False\n",
    "    count = 0\n",
    "    while not found:\n",
    "        count += 1\n",
    "        time.sleep(1)\n",
    "        midpoint_index = len(the_list)// 2\n",
    "        print(the_list, midpoint_index)\n",
    "        if(the_list[midpoint_index] == target):\n",
    "            print(f\"Found {target} in {count} steps\")\n",
    "            #return midpoint_index\n",
    "            found = True\n",
    "        if(the_list[midpoint_index] > target):\n",
    "            the_list = the_list[:midpoint_index]\n",
    "            continue\n",
    "        if(the_list[midpoint_index] < target):\n",
    "            the_list = the_list[midpoint_index:]"
   ]
  },
  {
   "cell_type": "code",
   "execution_count": null,
   "id": "b27cc3e0",
   "metadata": {},
   "outputs": [],
   "source": [
    "\n",
    "binary_search(test_list, 13)"
   ]
  },
  {
   "cell_type": "code",
   "execution_count": null,
   "id": "9d46793f",
   "metadata": {},
   "outputs": [],
   "source": []
  },
  {
   "cell_type": "code",
   "execution_count": null,
   "id": "e01d19af",
   "metadata": {},
   "outputs": [],
   "source": []
  },
  {
   "cell_type": "code",
   "execution_count": null,
   "id": "cd34ba41",
   "metadata": {},
   "outputs": [],
   "source": []
  },
  {
   "cell_type": "code",
   "execution_count": null,
   "id": "e616b6a5",
   "metadata": {},
   "outputs": [],
   "source": []
  },
  {
   "cell_type": "code",
   "execution_count": null,
   "id": "794d9cb1",
   "metadata": {},
   "outputs": [],
   "source": []
  },
  {
   "cell_type": "markdown",
   "id": "ea11fdc9",
   "metadata": {},
   "source": [
    "### Bubble Sort\n",
    "\n",
    "- brute force\n",
    "![image](./bubble_sort.gif)\n",
    "\n",
    "- best case O(n)\n",
    "- worst case O($n^2$)"
   ]
  },
  {
   "cell_type": "code",
   "execution_count": null,
   "id": "f973712f",
   "metadata": {},
   "outputs": [],
   "source": [
    "import time\n",
    "\n",
    "def bubble_sort(the_list):\n",
    "    high_idx = len(the_list) - 1\n",
    "    print(high_idx)\n",
    "    for i in range(high_idx):\n",
    "        print(f\"The outer loop ran {i} times\")\n",
    "        changed = False\n",
    "        for j in range(high_idx):\n",
    "            print(the_list, i, j)\n",
    "            time.sleep(.5)\n",
    "            item = the_list[j]\n",
    "            next = the_list[j+1]\n",
    "            if item > next:\n",
    "                the_list[j] = next\n",
    "                the_list[j+1] = item\n",
    "                changed = True\n",
    "        if changed == False:\n",
    "             break\n",
    "\n",
    "            "
   ]
  },
  {
   "cell_type": "code",
   "execution_count": null,
   "id": "4806bb65",
   "metadata": {},
   "outputs": [],
   "source": [
    "unsorted_list = [9, 7, 3, 1, 6, 2, 0, 8, 4, 5]"
   ]
  },
  {
   "cell_type": "code",
   "execution_count": null,
   "id": "89713b04",
   "metadata": {},
   "outputs": [],
   "source": [
    "\n",
    "bubble_sort(unsorted_list)"
   ]
  },
  {
   "cell_type": "code",
   "execution_count": null,
   "id": "45862c42",
   "metadata": {},
   "outputs": [],
   "source": [
    "\n"
   ]
  },
  {
   "cell_type": "code",
   "execution_count": null,
   "id": "2d722eb7",
   "metadata": {},
   "outputs": [],
   "source": []
  },
  {
   "cell_type": "code",
   "execution_count": null,
   "id": "f64eb49f",
   "metadata": {},
   "outputs": [],
   "source": [
    "def q_sort(array):\n",
    "    \"\"\"Sort the array by using quicksort.\"\"\"\n",
    "\n",
    "    less = []\n",
    "    equal = []\n",
    "    greater = []\n",
    "\n",
    "    if len(array) > 1:\n",
    "        pivot = array[-1]\n",
    "        for x in array:\n",
    "            if x < pivot:\n",
    "                less.append(x)\n",
    "            elif x == pivot:\n",
    "                equal.append(x)\n",
    "            elif x > pivot:\n",
    "                greater.append(x)\n",
    "        curr_arr = q_sort(less) + equal + q_sort(greater) # use the + operator to join lists\n",
    "    # Note that you want equal ^^^^^ not pivot\n",
    "        print(\"less_arr\", less, \"equl_arr\",equal,\"greater_arr\", greater)\n",
    "        return curr_arr   \n",
    "    else:  # You need to handle the part at the end of the recursion - when you only have one element in your array, just return the array.\n",
    "        return array"
   ]
  },
  {
   "cell_type": "code",
   "execution_count": null,
   "id": "29c7f152",
   "metadata": {},
   "outputs": [],
   "source": [
    "q_sort(unsorted_list)"
   ]
  },
  {
   "cell_type": "code",
   "execution_count": null,
   "id": "5cffcc20",
   "metadata": {},
   "outputs": [],
   "source": []
  },
  {
   "cell_type": "code",
   "execution_count": null,
   "id": "d8c24f7e",
   "metadata": {},
   "outputs": [],
   "source": []
  },
  {
   "cell_type": "code",
   "execution_count": null,
   "id": "429b030e",
   "metadata": {},
   "outputs": [],
   "source": []
  },
  {
   "cell_type": "markdown",
   "id": "7f4096ba",
   "metadata": {},
   "source": [
    "# Big O"
   ]
  },
  {
   "cell_type": "code",
   "execution_count": null,
   "id": "88d24c69",
   "metadata": {},
   "outputs": [],
   "source": [
    "from math import log\n",
    "import numpy as np\n",
    "import matplotlib.pyplot as plt\n",
    "%matplotlib inline\n",
    "plt.style.use('bmh')\n",
    "\n",
    "# Set up runtime comparisons\n",
    "n = np.linspace(1,10,1000)\n",
    "labels = ['Constant','Logarithmic','Linear','Log Linear','Quadratic','Exponential']\n",
    "big_o = [np.ones(n.shape),np.log(n),n,n*np.log(n),n**2,2**n]\n",
    "\n",
    "# Plot setup\n",
    "plt.figure(figsize=(12,10))\n",
    "plt.ylim(0,50)\n",
    "\n",
    "for i in range(len(big_o)):\n",
    "    plt.plot(n,big_o[i],label = labels[i])\n",
    "\n",
    "\n",
    "plt.legend(loc=0)\n",
    "plt.ylabel('Relative Runtime')\n",
    "plt.xlabel('n')"
   ]
  },
  {
   "cell_type": "markdown",
   "id": "3677af34",
   "metadata": {},
   "source": [
    "[snowball](http://localhost:8888/view/snowball.jpeg)"
   ]
  },
  {
   "cell_type": "code",
   "execution_count": null,
   "id": "6394f41f",
   "metadata": {},
   "outputs": [],
   "source": [
    "\n",
    "def sum1(n):\n",
    "    '''\n",
    "    Take an input of n and return the sum of the numbers from 0 to n\n",
    "    '''\n",
    "    final_sum = 0\n",
    "    for x in range(n+1):\n",
    "        final_sum += x\n",
    "\n",
    "    return final_sum\n",
    "#O(n)"
   ]
  },
  {
   "cell_type": "code",
   "execution_count": null,
   "id": "027116d9",
   "metadata": {},
   "outputs": [],
   "source": [
    "def sum2(n):\n",
    "    \"\"\"\n",
    "    Take an input of n and return the sum of the numbers from 0 to n\n",
    "    \"\"\"\n",
    "    return (n*(n+1))/2\n",
    "#O(1)"
   ]
  },
  {
   "cell_type": "code",
   "execution_count": null,
   "id": "737d5a46",
   "metadata": {},
   "outputs": [],
   "source": []
  },
  {
   "cell_type": "code",
   "execution_count": null,
   "id": "60d0bffb",
   "metadata": {},
   "outputs": [],
   "source": [
    "%timeit sum1(5000)"
   ]
  },
  {
   "cell_type": "code",
   "execution_count": null,
   "id": "832b0968",
   "metadata": {},
   "outputs": [],
   "source": [
    "%timeit sum2(5000)"
   ]
  },
  {
   "cell_type": "code",
   "execution_count": null,
   "id": "4e36ee52",
   "metadata": {},
   "outputs": [],
   "source": []
  },
  {
   "cell_type": "code",
   "execution_count": null,
   "id": "8791f1fb",
   "metadata": {},
   "outputs": [],
   "source": [
    "import this"
   ]
  },
  {
   "cell_type": "code",
   "execution_count": null,
   "id": "475d6c42",
   "metadata": {},
   "outputs": [],
   "source": []
  },
  {
   "cell_type": "code",
   "execution_count": null,
   "id": "d536bd32",
   "metadata": {},
   "outputs": [],
   "source": []
  },
  {
   "cell_type": "code",
   "execution_count": null,
   "id": "c6757647",
   "metadata": {},
   "outputs": [],
   "source": [
    "def quadratic(n):\n",
    "    for n in range(n):\n",
    "        for m in range(n):\n",
    "# O(n**2)"
   ]
  },
  {
   "cell_type": "code",
   "execution_count": null,
   "id": "47b51266",
   "metadata": {},
   "outputs": [],
   "source": []
  },
  {
   "cell_type": "code",
   "execution_count": null,
   "id": "0921e1ac",
   "metadata": {},
   "outputs": [],
   "source": []
  },
  {
   "cell_type": "code",
   "execution_count": null,
   "id": "f1ef7a9d",
   "metadata": {},
   "outputs": [],
   "source": []
  },
  {
   "cell_type": "code",
   "execution_count": null,
   "id": "34de1463",
   "metadata": {},
   "outputs": [],
   "source": []
  }
 ],
 "metadata": {
  "interpreter": {
   "hash": "57d418549deb2b28c2bac4f6acf8fe5c78b0c3ba07880bf4f33452d12e17b367"
  },
  "kernelspec": {
   "display_name": "Python 3",
   "language": "python",
   "name": "python3"
  },
  "language_info": {
   "codemirror_mode": {
    "name": "ipython",
    "version": 3
   },
   "file_extension": ".py",
   "mimetype": "text/x-python",
   "name": "python",
   "nbconvert_exporter": "python",
   "pygments_lexer": "ipython3",
   "version": "3.8.10"
  }
 },
 "nbformat": 4,
 "nbformat_minor": 5
}
