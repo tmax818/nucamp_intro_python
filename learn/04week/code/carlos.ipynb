{
 "cells": [
  {
   "cell_type": "code",
   "execution_count": 1,
   "id": "024a90c1",
   "metadata": {},
   "outputs": [],
   "source": [
    "class Node:\n",
    "    def __init__(self, value):\n",
    "        self.value = value\n",
    "        self.next = None\n",
    "        self.prev = None"
   ]
  },
  {
   "cell_type": "code",
   "execution_count": 3,
   "id": "67c2ab85",
   "metadata": {},
   "outputs": [],
   "source": [
    "node1 = Node('first')"
   ]
  },
  {
   "cell_type": "code",
   "execution_count": 4,
   "id": "19f984a2",
   "metadata": {},
   "outputs": [
    {
     "data": {
      "text/plain": [
       "'first'"
      ]
     },
     "execution_count": 4,
     "metadata": {},
     "output_type": "execute_result"
    }
   ],
   "source": [
    "node1.value"
   ]
  },
  {
   "cell_type": "code",
   "execution_count": 5,
   "id": "9bd82521",
   "metadata": {},
   "outputs": [
    {
     "data": {
      "text/plain": [
       "<__main__.Node at 0x7f253c5089a0>"
      ]
     },
     "execution_count": 5,
     "metadata": {},
     "output_type": "execute_result"
    }
   ],
   "source": [
    "node1"
   ]
  },
  {
   "cell_type": "code",
   "execution_count": 6,
   "id": "3de0e4d6",
   "metadata": {},
   "outputs": [],
   "source": [
    "node2 = Node('second')"
   ]
  },
  {
   "cell_type": "code",
   "execution_count": 7,
   "id": "e9b88693",
   "metadata": {},
   "outputs": [
    {
     "data": {
      "text/plain": [
       "<__main__.Node at 0x7f253c56e970>"
      ]
     },
     "execution_count": 7,
     "metadata": {},
     "output_type": "execute_result"
    }
   ],
   "source": [
    "node2"
   ]
  },
  {
   "cell_type": "code",
   "execution_count": 8,
   "id": "28c29c09",
   "metadata": {},
   "outputs": [
    {
     "data": {
      "text/plain": [
       "'second'"
      ]
     },
     "execution_count": 8,
     "metadata": {},
     "output_type": "execute_result"
    }
   ],
   "source": [
    "node2.value"
   ]
  },
  {
   "cell_type": "code",
   "execution_count": 9,
   "id": "ba1438d7",
   "metadata": {},
   "outputs": [],
   "source": [
    "node1.next = node2"
   ]
  },
  {
   "cell_type": "code",
   "execution_count": 10,
   "id": "afe3327d",
   "metadata": {},
   "outputs": [
    {
     "data": {
      "text/plain": [
       "<__main__.Node at 0x7f253c56e970>"
      ]
     },
     "execution_count": 10,
     "metadata": {},
     "output_type": "execute_result"
    }
   ],
   "source": [
    "node1.next"
   ]
  },
  {
   "cell_type": "code",
   "execution_count": 11,
   "id": "aeae56ea",
   "metadata": {},
   "outputs": [
    {
     "data": {
      "text/plain": [
       "'second'"
      ]
     },
     "execution_count": 11,
     "metadata": {},
     "output_type": "execute_result"
    }
   ],
   "source": [
    "node1.next.value"
   ]
  },
  {
   "cell_type": "code",
   "execution_count": 12,
   "id": "3c01b94a",
   "metadata": {},
   "outputs": [],
   "source": [
    "node3 = Node('third')"
   ]
  },
  {
   "cell_type": "code",
   "execution_count": 13,
   "id": "4d1785f9",
   "metadata": {},
   "outputs": [],
   "source": [
    "node2.next = node3"
   ]
  },
  {
   "cell_type": "code",
   "execution_count": 14,
   "id": "c026a664",
   "metadata": {},
   "outputs": [
    {
     "data": {
      "text/plain": [
       "'third'"
      ]
     },
     "execution_count": 14,
     "metadata": {},
     "output_type": "execute_result"
    }
   ],
   "source": [
    "node1.next.next.value"
   ]
  },
  {
   "cell_type": "code",
   "execution_count": 15,
   "id": "35e74e9b",
   "metadata": {},
   "outputs": [
    {
     "data": {
      "text/plain": [
       "<__main__.Node at 0x7f253c50d460>"
      ]
     },
     "execution_count": 15,
     "metadata": {},
     "output_type": "execute_result"
    }
   ],
   "source": [
    "node1.next.next"
   ]
  },
  {
   "cell_type": "code",
   "execution_count": 16,
   "id": "78340ac7",
   "metadata": {},
   "outputs": [],
   "source": [
    "node0 = Node(\"the new head\")"
   ]
  },
  {
   "cell_type": "code",
   "execution_count": 17,
   "id": "fe70c771",
   "metadata": {},
   "outputs": [
    {
     "data": {
      "text/plain": [
       "<__main__.Node at 0x7f253c502df0>"
      ]
     },
     "execution_count": 17,
     "metadata": {},
     "output_type": "execute_result"
    }
   ],
   "source": [
    "node0"
   ]
  },
  {
   "cell_type": "code",
   "execution_count": 18,
   "id": "cef4fba8",
   "metadata": {},
   "outputs": [
    {
     "data": {
      "text/plain": [
       "'the new head'"
      ]
     },
     "execution_count": 18,
     "metadata": {},
     "output_type": "execute_result"
    }
   ],
   "source": [
    "node0.value"
   ]
  },
  {
   "cell_type": "code",
   "execution_count": 20,
   "id": "3ef9fd96",
   "metadata": {},
   "outputs": [],
   "source": [
    "node0.next = node1"
   ]
  },
  {
   "cell_type": "code",
   "execution_count": null,
   "id": "1ecbc287",
   "metadata": {},
   "outputs": [],
   "source": [
    "node1.prev = node0"
   ]
  },
  {
   "cell_type": "code",
   "execution_count": null,
   "id": "c6282074",
   "metadata": {},
   "outputs": [],
   "source": []
  },
  {
   "cell_type": "code",
   "execution_count": null,
   "id": "8deb8477",
   "metadata": {},
   "outputs": [],
   "source": []
  }
 ],
 "metadata": {
  "kernelspec": {
   "display_name": "Python 3",
   "language": "python",
   "name": "python3"
  },
  "language_info": {
   "codemirror_mode": {
    "name": "ipython",
    "version": 3
   },
   "file_extension": ".py",
   "mimetype": "text/x-python",
   "name": "python",
   "nbconvert_exporter": "python",
   "pygments_lexer": "ipython3",
   "version": "3.8.8"
  }
 },
 "nbformat": 4,
 "nbformat_minor": 5
}
