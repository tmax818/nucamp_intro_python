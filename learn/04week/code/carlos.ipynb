{
 "cells": [
  {
   "cell_type": "code",
   "execution_count": 1,
   "id": "024a90c1",
   "metadata": {},
   "outputs": [],
   "source": [
    "class Node:\n",
    "    def __init__(self, value):\n",
    "        self.value = value\n",
    "        self.next = None\n",
    "        self.prev = None"
   ]
  },
  {
   "cell_type": "code",
   "execution_count": 12,
   "id": "67c2ab85",
   "metadata": {},
   "outputs": [
    {
     "data": {
      "text/plain": [
       "1"
      ]
     },
     "execution_count": 12,
     "metadata": {},
     "output_type": "execute_result"
    }
   ],
   "source": [
    "node1.value"
   ]
  },
  {
   "cell_type": "code",
   "execution_count": 13,
   "id": "19f984a2",
   "metadata": {},
   "outputs": [],
   "source": [
    "node2 = Node(2)"
   ]
  },
  {
   "cell_type": "code",
   "execution_count": 14,
   "id": "9bd82521",
   "metadata": {},
   "outputs": [
    {
     "data": {
      "text/plain": [
       "1"
      ]
     },
     "execution_count": 14,
     "metadata": {},
     "output_type": "execute_result"
    }
   ],
   "source": [
    "node1.value"
   ]
  },
  {
   "cell_type": "code",
   "execution_count": 15,
   "id": "3de0e4d6",
   "metadata": {},
   "outputs": [
    {
     "data": {
      "text/plain": [
       "2"
      ]
     },
     "execution_count": 15,
     "metadata": {},
     "output_type": "execute_result"
    }
   ],
   "source": [
    "node2.value"
   ]
  },
  {
   "cell_type": "code",
   "execution_count": 16,
   "id": "e9b88693",
   "metadata": {},
   "outputs": [],
   "source": [
    "node1.next = node2"
   ]
  },
  {
   "cell_type": "code",
   "execution_count": 17,
   "id": "28c29c09",
   "metadata": {},
   "outputs": [
    {
     "data": {
      "text/plain": [
       "<__main__.Node at 0x7f3394679970>"
      ]
     },
     "execution_count": 17,
     "metadata": {},
     "output_type": "execute_result"
    }
   ],
   "source": [
    "node1.next"
   ]
  },
  {
   "cell_type": "code",
   "execution_count": 18,
   "id": "ba1438d7",
   "metadata": {},
   "outputs": [
    {
     "data": {
      "text/plain": [
       "2"
      ]
     },
     "execution_count": 18,
     "metadata": {},
     "output_type": "execute_result"
    }
   ],
   "source": [
    "node2.value"
   ]
  },
  {
   "cell_type": "code",
   "execution_count": 19,
   "id": "afe3327d",
   "metadata": {},
   "outputs": [
    {
     "data": {
      "text/plain": [
       "<__main__.Node at 0x7f3394679970>"
      ]
     },
     "execution_count": 19,
     "metadata": {},
     "output_type": "execute_result"
    }
   ],
   "source": [
    "node1.next"
   ]
  },
  {
   "cell_type": "code",
   "execution_count": 20,
   "id": "aeae56ea",
   "metadata": {},
   "outputs": [
    {
     "data": {
      "text/plain": [
       "2"
      ]
     },
     "execution_count": 20,
     "metadata": {},
     "output_type": "execute_result"
    }
   ],
   "source": [
    "node1.next.value"
   ]
  },
  {
   "cell_type": "code",
   "execution_count": 21,
   "id": "3c01b94a",
   "metadata": {},
   "outputs": [],
   "source": [
    "node2.next"
   ]
  },
  {
   "cell_type": "code",
   "execution_count": 22,
   "id": "4d1785f9",
   "metadata": {},
   "outputs": [],
   "source": [
    "node3 = Node(3)"
   ]
  },
  {
   "cell_type": "code",
   "execution_count": 23,
   "id": "c026a664",
   "metadata": {},
   "outputs": [],
   "source": [
    "node2.next = node3"
   ]
  },
  {
   "cell_type": "code",
   "execution_count": 24,
   "id": "35e74e9b",
   "metadata": {},
   "outputs": [
    {
     "data": {
      "text/plain": [
       "3"
      ]
     },
     "execution_count": 24,
     "metadata": {},
     "output_type": "execute_result"
    }
   ],
   "source": [
    "node2.next.value"
   ]
  },
  {
   "cell_type": "code",
   "execution_count": 25,
   "id": "78340ac7",
   "metadata": {},
   "outputs": [
    {
     "data": {
      "text/plain": [
       "<__main__.Node at 0x7f3394659370>"
      ]
     },
     "execution_count": 25,
     "metadata": {},
     "output_type": "execute_result"
    }
   ],
   "source": [
    "node1.next.next"
   ]
  },
  {
   "cell_type": "code",
   "execution_count": 26,
   "id": "fe70c771",
   "metadata": {},
   "outputs": [
    {
     "data": {
      "text/plain": [
       "3"
      ]
     },
     "execution_count": 26,
     "metadata": {},
     "output_type": "execute_result"
    }
   ],
   "source": [
    "node1.next.next.value"
   ]
  },
  {
   "cell_type": "code",
   "execution_count": 28,
   "id": "cef4fba8",
   "metadata": {},
   "outputs": [],
   "source": [
    "from os import sys"
   ]
  },
  {
   "cell_type": "code",
   "execution_count": 29,
   "id": "3ef9fd96",
   "metadata": {},
   "outputs": [
    {
     "data": {
      "text/plain": [
       "28"
      ]
     },
     "execution_count": 29,
     "metadata": {},
     "output_type": "execute_result"
    }
   ],
   "source": [
    "sys.getsizeof(4)"
   ]
  },
  {
   "cell_type": "code",
   "execution_count": 44,
   "id": "1ecbc287",
   "metadata": {},
   "outputs": [],
   "source": [
    "my_arr = [1,2,3,4,5,5,6,5]"
   ]
  },
  {
   "cell_type": "code",
   "execution_count": 45,
   "id": "c6282074",
   "metadata": {},
   "outputs": [
    {
     "data": {
      "text/plain": [
       "120"
      ]
     },
     "execution_count": 45,
     "metadata": {},
     "output_type": "execute_result"
    }
   ],
   "source": [
    "sys.getsizeof(my_arr)"
   ]
  },
  {
   "cell_type": "code",
   "execution_count": null,
   "id": "8deb8477",
   "metadata": {},
   "outputs": [],
   "source": []
  }
 ],
 "metadata": {
  "kernelspec": {
   "display_name": "Python 3",
   "language": "python",
   "name": "python3"
  },
  "language_info": {
   "codemirror_mode": {
    "name": "ipython",
    "version": 3
   },
   "file_extension": ".py",
   "mimetype": "text/x-python",
   "name": "python",
   "nbconvert_exporter": "python",
   "pygments_lexer": "ipython3",
   "version": "3.8.8"
  }
 },
 "nbformat": 4,
 "nbformat_minor": 5
}
