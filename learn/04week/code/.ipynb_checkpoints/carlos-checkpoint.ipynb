{
 "cells": [
  {
   "cell_type": "code",
   "execution_count": 1,
   "id": "024a90c1",
   "metadata": {},
   "outputs": [],
   "source": [
    "class Node:\n",
    "    def __init__(self, value):\n",
    "        self.value = value\n",
    "        self.next = None\n",
    "        self.prev = None"
   ]
  },
  {
   "cell_type": "code",
   "execution_count": 2,
   "id": "6a0fa585",
   "metadata": {},
   "outputs": [],
   "source": [
    "node1 = Node(\"first node\")"
   ]
  },
  {
   "cell_type": "code",
   "execution_count": 3,
   "id": "d9a441ec",
   "metadata": {},
   "outputs": [
    {
     "data": {
      "text/plain": [
       "<__main__.Node at 0x7f4c091acd30>"
      ]
     },
     "execution_count": 3,
     "metadata": {},
     "output_type": "execute_result"
    }
   ],
   "source": [
    "node1"
   ]
  },
  {
   "cell_type": "code",
   "execution_count": 5,
   "id": "9d4a641c",
   "metadata": {},
   "outputs": [
    {
     "data": {
      "text/plain": [
       "'first node'"
      ]
     },
     "execution_count": 5,
     "metadata": {},
     "output_type": "execute_result"
    }
   ],
   "source": [
    "node1.value"
   ]
  },
  {
   "cell_type": "code",
   "execution_count": 6,
   "id": "33810776",
   "metadata": {},
   "outputs": [],
   "source": [
    "node1.next"
   ]
  },
  {
   "cell_type": "code",
   "execution_count": 7,
   "id": "8d8fb279",
   "metadata": {},
   "outputs": [],
   "source": [
    "node1.prev"
   ]
  },
  {
   "cell_type": "code",
   "execution_count": 8,
   "id": "46ccca26",
   "metadata": {},
   "outputs": [],
   "source": [
    "node2 = Node(\"second node\")"
   ]
  },
  {
   "cell_type": "code",
   "execution_count": 9,
   "id": "8a0a4f73",
   "metadata": {},
   "outputs": [
    {
     "data": {
      "text/plain": [
       "<__main__.Node at 0x7f4c091a1340>"
      ]
     },
     "execution_count": 9,
     "metadata": {},
     "output_type": "execute_result"
    }
   ],
   "source": [
    "node2"
   ]
  },
  {
   "cell_type": "code",
   "execution_count": 11,
   "id": "e1a563a0",
   "metadata": {},
   "outputs": [],
   "source": [
    "node1.next"
   ]
  },
  {
   "cell_type": "code",
   "execution_count": 12,
   "id": "57be5351",
   "metadata": {},
   "outputs": [],
   "source": [
    "node1.next = node2"
   ]
  },
  {
   "cell_type": "code",
   "execution_count": 13,
   "id": "dd0c67aa",
   "metadata": {},
   "outputs": [
    {
     "data": {
      "text/plain": [
       "<__main__.Node at 0x7f4c091acd30>"
      ]
     },
     "execution_count": 13,
     "metadata": {},
     "output_type": "execute_result"
    }
   ],
   "source": [
    "node1"
   ]
  },
  {
   "cell_type": "code",
   "execution_count": 14,
   "id": "fe8cca1a",
   "metadata": {},
   "outputs": [
    {
     "data": {
      "text/plain": [
       "<__main__.Node at 0x7f4c091a1340>"
      ]
     },
     "execution_count": 14,
     "metadata": {},
     "output_type": "execute_result"
    }
   ],
   "source": [
    "node1.next"
   ]
  },
  {
   "cell_type": "code",
   "execution_count": 15,
   "id": "f148f489",
   "metadata": {},
   "outputs": [
    {
     "data": {
      "text/plain": [
       "'second node'"
      ]
     },
     "execution_count": 15,
     "metadata": {},
     "output_type": "execute_result"
    }
   ],
   "source": [
    "node1.next.value"
   ]
  },
  {
   "cell_type": "code",
   "execution_count": 16,
   "id": "e450e5d0",
   "metadata": {},
   "outputs": [],
   "source": [
    "node2.next"
   ]
  },
  {
   "cell_type": "code",
   "execution_count": 17,
   "id": "c63bc4d7",
   "metadata": {},
   "outputs": [],
   "source": [
    "node3 = Node(\"third node\")"
   ]
  },
  {
   "cell_type": "code",
   "execution_count": 18,
   "id": "c2d3f8ff",
   "metadata": {},
   "outputs": [],
   "source": [
    "node2.next = node3"
   ]
  },
  {
   "cell_type": "code",
   "execution_count": 19,
   "id": "fb2a8cf9",
   "metadata": {},
   "outputs": [
    {
     "data": {
      "text/plain": [
       "'third node'"
      ]
     },
     "execution_count": 19,
     "metadata": {},
     "output_type": "execute_result"
    }
   ],
   "source": [
    "node2.next.value"
   ]
  },
  {
   "cell_type": "code",
   "execution_count": null,
   "id": "35e88fda",
   "metadata": {},
   "outputs": [],
   "source": []
  }
 ],
 "metadata": {
  "kernelspec": {
   "display_name": "Python 3",
   "language": "python",
   "name": "python3"
  },
  "language_info": {
   "codemirror_mode": {
    "name": "ipython",
    "version": 3
   },
   "file_extension": ".py",
   "mimetype": "text/x-python",
   "name": "python",
   "nbconvert_exporter": "python",
   "pygments_lexer": "ipython3",
   "version": "3.8.10"
  }
 },
 "nbformat": 4,
 "nbformat_minor": 5
}
