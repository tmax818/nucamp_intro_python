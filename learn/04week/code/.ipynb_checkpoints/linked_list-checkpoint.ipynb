{
 "cells": [
  {
   "cell_type": "code",
   "execution_count": 2,
   "id": "prescribed-librarian",
   "metadata": {},
   "outputs": [],
   "source": [
    "class Node:\n",
    "    def __init__(self, value):\n",
    "        self.value = value\n",
    "        self.next = None\n",
    "        self.prev = None"
   ]
  },
  {
   "cell_type": "code",
   "execution_count": 3,
   "id": "standing-compatibility",
   "metadata": {},
   "outputs": [],
   "source": [
    "node1 = Node('node1')"
   ]
  },
  {
   "cell_type": "code",
   "execution_count": 5,
   "id": "severe-structure",
   "metadata": {},
   "outputs": [],
   "source": [
    "node2 = Node('node2')"
   ]
  },
  {
   "cell_type": "code",
   "execution_count": 7,
   "id": "fluid-witch",
   "metadata": {},
   "outputs": [],
   "source": [
    "node3 = Node('node3')"
   ]
  }
 ],
 "metadata": {
  "kernelspec": {
   "display_name": "Python 3.8.5 64-bit",
   "language": "python",
   "name": "python38564bit5ef6e1d448b040368862e89bb716d255"
  },
  "language_info": {
   "codemirror_mode": {
    "name": "ipython",
    "version": 3
   },
   "file_extension": ".py",
   "mimetype": "text/x-python",
   "name": "python",
   "nbconvert_exporter": "python",
   "pygments_lexer": "ipython3",
   "version": "3.8.10"
  }
 },
 "nbformat": 4,
 "nbformat_minor": 5
}
