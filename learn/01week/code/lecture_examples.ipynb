{
 "cells": [
  {
   "cell_type": "markdown",
   "id": "2fe4206c",
   "metadata": {},
   "source": [
    "# Python Notes\n",
    "\n",
    "- I am learning python\n",
    "- I can't type"
   ]
  },
  {
   "cell_type": "code",
   "execution_count": 1,
   "id": "72c77bc3",
   "metadata": {},
   "outputs": [
    {
     "data": {
      "text/plain": [
       "7"
      ]
     },
     "execution_count": 1,
     "metadata": {},
     "output_type": "execute_result"
    }
   ],
   "source": [
    "3 + 4"
   ]
  },
  {
   "cell_type": "code",
   "execution_count": 2,
   "id": "4b3283eb",
   "metadata": {},
   "outputs": [
    {
     "name": "stdout",
     "output_type": "stream",
     "text": [
      "hello world\n"
     ]
    }
   ],
   "source": [
    "print(\"hello world\")\n"
   ]
  },
  {
   "cell_type": "code",
   "execution_count": 3,
   "id": "3740617c",
   "metadata": {},
   "outputs": [
    {
     "name": "stdout",
     "output_type": "stream",
     "text": [
      "The Zen of Python, by Tim Peters\n",
      "\n",
      "Beautiful is better than ugly.\n",
      "Explicit is better than implicit.\n",
      "Simple is better than complex.\n",
      "Complex is better than complicated.\n",
      "Flat is better than nested.\n",
      "Sparse is better than dense.\n",
      "Readability counts.\n",
      "Special cases aren't special enough to break the rules.\n",
      "Although practicality beats purity.\n",
      "Errors should never pass silently.\n",
      "Unless explicitly silenced.\n",
      "In the face of ambiguity, refuse the temptation to guess.\n",
      "There should be one-- and preferably only one --obvious way to do it.\n",
      "Although that way may not be obvious at first unless you're Dutch.\n",
      "Now is better than never.\n",
      "Although never is often better than *right* now.\n",
      "If the implementation is hard to explain, it's a bad idea.\n",
      "If the implementation is easy to explain, it may be a good idea.\n",
      "Namespaces are one honking great idea -- let's do more of those!\n"
     ]
    }
   ],
   "source": [
    "import this"
   ]
  },
  {
   "cell_type": "markdown",
   "id": "d92c24de",
   "metadata": {},
   "source": [
    "#### While"
   ]
  },
  {
   "cell_type": "code",
   "execution_count": 4,
   "id": "9e13c8f0",
   "metadata": {},
   "outputs": [
    {
     "name": "stdout",
     "output_type": "stream",
     "text": [
      "8\n",
      "8\n",
      "8\n",
      "5\n"
     ]
    }
   ],
   "source": [
    "import random\n",
    "\n",
    "number = random.randint(1,10)\n",
    "\n",
    "print(number)\n",
    "\n",
    "while True:\n",
    "    print(number)\n",
    "    if number == 5:\n",
    "        break\n",
    "    number = random.randint(1,10)\n",
    "\n",
    "    "
   ]
  },
  {
   "cell_type": "code",
   "execution_count": 5,
   "id": "7df2ac60",
   "metadata": {},
   "outputs": [
    {
     "name": "stdout",
     "output_type": "stream",
     "text": [
      "0\n",
      "Hi mom!\n",
      "1\n",
      "Hi mom!\n",
      "2\n",
      "Hi mom!\n",
      "3\n",
      "Hi mom!\n",
      "4\n",
      "Hi mom!\n",
      "5\n",
      "Hi mom!\n"
     ]
    }
   ],
   "source": [
    "i = 0\n",
    "\n",
    "while i <= 5:\n",
    "    print(i)\n",
    "    print(\"Hi mom!\")\n",
    "    i += 1"
   ]
  },
  {
   "cell_type": "code",
   "execution_count": 6,
   "id": "9b76224d",
   "metadata": {},
   "outputs": [
    {
     "name": "stdout",
     "output_type": "stream",
     "text": [
      "20\n",
      "buzz\n",
      "19\n",
      "18\n",
      "fizz\n",
      "17\n",
      "16\n",
      "15\n",
      "fizzbuzz\n",
      "14\n",
      "13\n",
      "12\n",
      "fizz\n",
      "11\n",
      "10\n",
      "buzz\n",
      "9\n",
      "fizz\n",
      "8\n",
      "7\n",
      "6\n",
      "fizz\n",
      "5\n",
      "buzz\n",
      "4\n",
      "3\n",
      "fizz\n",
      "2\n",
      "1\n",
      "0\n",
      "fizzbuzz\n"
     ]
    }
   ],
   "source": [
    "# if the number is div by 3 print 'fizz' \n",
    "# if the number is div by 5 print 'buzz'\n",
    "# if the number is div by both 3 and 5 print 'fizzbuzz'\n",
    "\n",
    "i = 20\n",
    "\n",
    "while i >= 0:\n",
    "    print(i)\n",
    "    if i % 3 == 0 and i % 5 == 0:\n",
    "        print(\"fizzbuzz\")\n",
    "    elif i % 3 == 0:\n",
    "        print(\"fizz\")\n",
    "\n",
    "    elif i % 5 == 0:\n",
    "        print(\"buzz\")\n",
    "    i -= 1\n",
    "    \n"
   ]
  },
  {
   "cell_type": "code",
   "execution_count": 2,
   "id": "de98db72",
   "metadata": {},
   "outputs": [
    {
     "name": "stdout",
     "output_type": "stream",
     "text": [
      "2\n",
      "Guess a number: 4\n",
      "4 2\n",
      "False\n",
      "Sorry, guess again: 5\n",
      "Sorry, guess again: 2\n",
      "You guessed the number: 2\n"
     ]
    }
   ],
   "source": [
    "from random import randint\n",
    "\n",
    "number = randint(1,11)\n",
    "print(number)\n",
    "userGuess = int(input(\"Guess a number: \"))\n",
    "\n",
    "print(userGuess, number)\n",
    "print(number == userGuess)\n",
    "\n",
    "while True:\n",
    "    if number == userGuess:\n",
    "        print(f\"You guessed the number: {number}\")\n",
    "        break\n",
    "    else:\n",
    "        userGuess = int(input(\"Sorry, guess again: \"))\n",
    "    \n",
    "    \n"
   ]
  },
  {
   "cell_type": "code",
   "execution_count": null,
   "id": "092baa4c",
   "metadata": {},
   "outputs": [],
   "source": []
  },
  {
   "cell_type": "code",
   "execution_count": null,
   "id": "3f71eb00",
   "metadata": {},
   "outputs": [],
   "source": []
  }
 ],
 "metadata": {
  "kernelspec": {
   "display_name": "Python 3",
   "language": "python",
   "name": "python3"
  },
  "language_info": {
   "codemirror_mode": {
    "name": "ipython",
    "version": 3
   },
   "file_extension": ".py",
   "mimetype": "text/x-python",
   "name": "python",
   "nbconvert_exporter": "python",
   "pygments_lexer": "ipython3",
   "version": "3.8.10"
  }
 },
 "nbformat": 4,
 "nbformat_minor": 5
}
