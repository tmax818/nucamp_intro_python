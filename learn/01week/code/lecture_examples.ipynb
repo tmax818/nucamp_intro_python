{
 "cells": [
  {
   "cell_type": "markdown",
   "id": "dd4dff62",
   "metadata": {},
   "source": [
    "this is a note"
   ]
  },
  {
   "cell_type": "markdown",
   "id": "2fe4206c",
   "metadata": {},
   "source": [
    "# Python Notes\n",
    "- this is a note\n",
    "- I am learning python"
   ]
  },
  {
   "cell_type": "markdown",
   "id": "a2845430",
   "metadata": {},
   "source": [
    "## primitive data types"
   ]
  },
  {
   "cell_type": "code",
   "execution_count": null,
   "id": "e66d759b",
   "metadata": {},
   "outputs": [],
   "source": [
    "type(42)"
   ]
  },
  {
   "cell_type": "code",
   "execution_count": null,
   "id": "302e2357",
   "metadata": {},
   "outputs": [],
   "source": [
    "type(3.14)"
   ]
  },
  {
   "cell_type": "code",
   "execution_count": null,
   "id": "4145358e",
   "metadata": {},
   "outputs": [],
   "source": [
    "type('my string')"
   ]
  },
  {
   "cell_type": "code",
   "execution_count": null,
   "id": "cdc4bb35",
   "metadata": {},
   "outputs": [],
   "source": [
    "type(True)"
   ]
  },
  {
   "cell_type": "code",
   "execution_count": null,
   "id": "f297b3fc",
   "metadata": {},
   "outputs": [],
   "source": [
    "type(None)"
   ]
  },
  {
   "cell_type": "markdown",
   "id": "c4d0cc35",
   "metadata": {},
   "source": [
    "## composite data types"
   ]
  },
  {
   "cell_type": "code",
   "execution_count": null,
   "id": "733430ea",
   "metadata": {},
   "outputs": [],
   "source": [
    "type([1,2,3])"
   ]
  },
  {
   "cell_type": "code",
   "execution_count": null,
   "id": "845a4e30",
   "metadata": {},
   "outputs": [],
   "source": [
    "type({'key': 'value', 'name': \"Tyler\", 'age': 39})"
   ]
  },
  {
   "cell_type": "code",
   "execution_count": null,
   "id": "d845331d",
   "metadata": {},
   "outputs": [],
   "source": [
    "type((23,))"
   ]
  },
  {
   "cell_type": "code",
   "execution_count": null,
   "id": "926077e1",
   "metadata": {},
   "outputs": [],
   "source": [
    "type({1,2,3,3,3,3})"
   ]
  },
  {
   "cell_type": "markdown",
   "id": "af33ee4e",
   "metadata": {},
   "source": [
    "## arithmetic operators"
   ]
  },
  {
   "cell_type": "code",
   "execution_count": null,
   "id": "5ce77dd6",
   "metadata": {},
   "outputs": [],
   "source": [
    "2 + 2"
   ]
  },
  {
   "cell_type": "code",
   "execution_count": null,
   "id": "7ad1efc2",
   "metadata": {},
   "outputs": [],
   "source": [
    "4 - 2"
   ]
  },
  {
   "cell_type": "code",
   "execution_count": null,
   "id": "08c7c08b",
   "metadata": {},
   "outputs": [],
   "source": [
    "6 * 7"
   ]
  },
  {
   "cell_type": "code",
   "execution_count": null,
   "id": "0601b836",
   "metadata": {},
   "outputs": [],
   "source": [
    "42 / 5"
   ]
  },
  {
   "cell_type": "code",
   "execution_count": null,
   "id": "b4ad91dd",
   "metadata": {},
   "outputs": [],
   "source": [
    "42 // 5"
   ]
  },
  {
   "cell_type": "code",
   "execution_count": null,
   "id": "e3489bfe",
   "metadata": {},
   "outputs": [],
   "source": [
    "42 % 5"
   ]
  },
  {
   "cell_type": "code",
   "execution_count": null,
   "id": "affb36b3",
   "metadata": {},
   "outputs": [],
   "source": [
    "43 % 2 == 0"
   ]
  },
  {
   "cell_type": "code",
   "execution_count": null,
   "id": "0917de5d",
   "metadata": {},
   "outputs": [],
   "source": [
    "2 ** 8"
   ]
  },
  {
   "cell_type": "code",
   "execution_count": null,
   "id": "864d49f0",
   "metadata": {},
   "outputs": [],
   "source": [
    "y = 2 * (3 + 4**2) / 19"
   ]
  },
  {
   "cell_type": "code",
   "execution_count": null,
   "id": "73d90386",
   "metadata": {},
   "outputs": [],
   "source": [
    "y"
   ]
  },
  {
   "cell_type": "markdown",
   "id": "2451995c",
   "metadata": {},
   "source": [
    "## comparison operators"
   ]
  },
  {
   "cell_type": "code",
   "execution_count": null,
   "id": "07b9268b",
   "metadata": {},
   "outputs": [],
   "source": [
    "y = 42\n",
    "x = 7"
   ]
  },
  {
   "cell_type": "code",
   "execution_count": null,
   "id": "ba90e7b0",
   "metadata": {},
   "outputs": [],
   "source": [
    "x > y "
   ]
  },
  {
   "cell_type": "code",
   "execution_count": null,
   "id": "0171743e",
   "metadata": {},
   "outputs": [],
   "source": [
    "x < y"
   ]
  },
  {
   "cell_type": "code",
   "execution_count": null,
   "id": "375fbba1",
   "metadata": {},
   "outputs": [],
   "source": [
    "x == y"
   ]
  },
  {
   "cell_type": "code",
   "execution_count": null,
   "id": "29bbfe1e",
   "metadata": {},
   "outputs": [],
   "source": [
    "x != y"
   ]
  },
  {
   "cell_type": "code",
   "execution_count": null,
   "id": "3e09f5a7",
   "metadata": {},
   "outputs": [],
   "source": [
    "43 == 43"
   ]
  },
  {
   "cell_type": "code",
   "execution_count": null,
   "id": "bb276b07",
   "metadata": {},
   "outputs": [],
   "source": [
    "43 != 42"
   ]
  },
  {
   "cell_type": "code",
   "execution_count": null,
   "id": "3ca2ddf7",
   "metadata": {},
   "outputs": [],
   "source": [
    "_43 = 43"
   ]
  },
  {
   "cell_type": "code",
   "execution_count": null,
   "id": "d0bf5adb",
   "metadata": {},
   "outputs": [],
   "source": [
    "_43"
   ]
  },
  {
   "cell_type": "markdown",
   "id": "31b18519",
   "metadata": {},
   "source": [
    "## logical operators\n",
    "\n",
    "- not\n",
    "- and\n",
    "- or"
   ]
  },
  {
   "cell_type": "markdown",
   "id": "68eefc1d",
   "metadata": {},
   "source": [
    "|p|not| not p|\n",
    "|---|---|---|\n",
    "|True|not|False| \n",
    "|False|not|True| \n"
   ]
  },
  {
   "cell_type": "code",
   "execution_count": null,
   "id": "925735b7",
   "metadata": {},
   "outputs": [],
   "source": [
    "not True"
   ]
  },
  {
   "cell_type": "code",
   "execution_count": null,
   "id": "32d2ef2f",
   "metadata": {},
   "outputs": [],
   "source": [
    "not False"
   ]
  },
  {
   "cell_type": "markdown",
   "id": "b7574d22",
   "metadata": {},
   "source": [
    "## Truthy and Falsy"
   ]
  },
  {
   "cell_type": "code",
   "execution_count": null,
   "id": "ee7c3733",
   "metadata": {},
   "outputs": [],
   "source": [
    "bool(4 != 5)"
   ]
  },
  {
   "cell_type": "code",
   "execution_count": null,
   "id": "dc564b5f",
   "metadata": {},
   "outputs": [],
   "source": []
  },
  {
   "cell_type": "code",
   "execution_count": null,
   "id": "e916c682",
   "metadata": {},
   "outputs": [],
   "source": []
  },
  {
   "cell_type": "code",
   "execution_count": null,
   "id": "d1175312",
   "metadata": {},
   "outputs": [],
   "source": []
  },
  {
   "cell_type": "markdown",
   "id": "d04d9d20",
   "metadata": {},
   "source": [
    "|p|and|q|?|\n",
    "|---|---|---|---|\n",
    "|True|and|True| True\n",
    "|True|and|False| False\n",
    "|False|and|True| False\n",
    "|False|and|False| False"
   ]
  },
  {
   "cell_type": "code",
   "execution_count": null,
   "id": "871808d6",
   "metadata": {},
   "outputs": [],
   "source": [
    "True and False"
   ]
  },
  {
   "cell_type": "code",
   "execution_count": null,
   "id": "337af8bf",
   "metadata": {},
   "outputs": [],
   "source": [
    "5 == 5 and True"
   ]
  },
  {
   "cell_type": "code",
   "execution_count": null,
   "id": "7b6f832a",
   "metadata": {},
   "outputs": [],
   "source": []
  },
  {
   "cell_type": "markdown",
   "id": "0d537d66",
   "metadata": {},
   "source": [
    "|p|or|q|?|\n",
    "|---|---|---|---|\n",
    "|True|or|True| True\n",
    "|True|or|False| True\n",
    "|False|or|True| True\n",
    "|False|or|False| False"
   ]
  },
  {
   "cell_type": "code",
   "execution_count": null,
   "id": "3aa0b6ab",
   "metadata": {},
   "outputs": [],
   "source": [
    "True or False"
   ]
  },
  {
   "cell_type": "markdown",
   "id": "733ece0a",
   "metadata": {},
   "source": [
    "## if\n",
    "- if\n",
    "- elif\n",
    "- else\n",
    "\n",
    "```python\n",
    "if bool:\n",
    "    # do something if bool is true\n",
    "elif other_bool:\n",
    "    # do something if bool is false and other_bool is true\n",
    "else:\n",
    "    # do something if bool is false\n",
    "```"
   ]
  },
  {
   "cell_type": "code",
   "execution_count": null,
   "id": "d8a1ac0d",
   "metadata": {},
   "outputs": [],
   "source": [
    "condition = True\n",
    "if condition:\n",
    "    print(\"It's true!!!\")\n",
    "else:\n",
    "    pass\n",
    "print(\"It must be false!\")"
   ]
  },
  {
   "cell_type": "code",
   "execution_count": null,
   "id": "3f5772e9",
   "metadata": {},
   "outputs": [],
   "source": [
    "condition = False\n",
    "other_condition = True\n",
    "\n",
    "if condition:\n",
    "    print(\"it's true\")\n",
    "elif other_condition:\n",
    "    print(\"the other condition is true\")\n",
    "else:\n",
    "    print(\"the else condition ran\")\n"
   ]
  },
  {
   "cell_type": "code",
   "execution_count": null,
   "id": "668d96bc",
   "metadata": {},
   "outputs": [],
   "source": []
  },
  {
   "cell_type": "markdown",
   "id": "9a48b369",
   "metadata": {},
   "source": [
    "# code blocks\n",
    "\n",
    "- what is a code block??"
   ]
  },
  {
   "cell_type": "code",
   "execution_count": null,
   "id": "09ed11b1",
   "metadata": {},
   "outputs": [],
   "source": [
    "weather = 'cold'\n",
    "if weather == 'cold':\n",
    "    print('wear a jacket.')\n",
    "    print('put on mittens.')"
   ]
  },
  {
   "cell_type": "code",
   "execution_count": null,
   "id": "114c1730",
   "metadata": {},
   "outputs": [],
   "source": []
  },
  {
   "cell_type": "code",
   "execution_count": null,
   "id": "492a169c",
   "metadata": {},
   "outputs": [],
   "source": []
  },
  {
   "cell_type": "code",
   "execution_count": null,
   "id": "91c38df4",
   "metadata": {},
   "outputs": [],
   "source": []
  },
  {
   "cell_type": "markdown",
   "id": "6bb8977a",
   "metadata": {},
   "source": [
    "## While\n",
    "- break\n",
    "- continue"
   ]
  },
  {
   "cell_type": "code",
   "execution_count": null,
   "id": "f992e07f",
   "metadata": {},
   "outputs": [],
   "source": [
    "x = 0\n",
    "while x <= 10:\n",
    "    print(x)\n",
    "    x += 1\n",
    "    if x == 2:\n",
    "        continue\n",
    "        x += 1\n"
   ]
  },
  {
   "cell_type": "code",
   "execution_count": null,
   "id": "837901a4",
   "metadata": {},
   "outputs": [],
   "source": [
    "print(n)"
   ]
  },
  {
   "cell_type": "code",
   "execution_count": null,
   "id": "42253ff0",
   "metadata": {},
   "outputs": [],
   "source": []
  },
  {
   "cell_type": "code",
   "execution_count": null,
   "id": "87bbfc56",
   "metadata": {},
   "outputs": [],
   "source": [
    "n = 5\n",
    "while n > 1:\n",
    "    print(n)\n",
    "    n = n - 1\n",
    "    if n == 2:\n",
    "        break"
   ]
  },
  {
   "cell_type": "code",
   "execution_count": null,
   "id": "096ac201",
   "metadata": {},
   "outputs": [],
   "source": [
    "print(n)"
   ]
  },
  {
   "cell_type": "markdown",
   "id": "d6fc252f",
   "metadata": {},
   "source": [
    "## continue\n"
   ]
  },
  {
   "cell_type": "code",
   "execution_count": null,
   "id": "f946a391",
   "metadata": {},
   "outputs": [],
   "source": [
    "print('h')\n",
    "n = 5\n",
    "while n > 1:\n",
    "    pass"
   ]
  },
  {
   "cell_type": "code",
   "execution_count": null,
   "id": "4ba0b482",
   "metadata": {},
   "outputs": [],
   "source": [
    "def decriment():\n",
    "    pass\n"
   ]
  },
  {
   "cell_type": "markdown",
   "id": "6ea859de",
   "metadata": {},
   "source": [
    "## infinite while and input"
   ]
  },
  {
   "cell_type": "code",
   "execution_count": null,
   "id": "57a616c2",
   "metadata": {},
   "outputs": [],
   "source": []
  },
  {
   "cell_type": "markdown",
   "id": "db795616",
   "metadata": {},
   "source": [
    "## Fizzbuzz\n",
    "\n",
    "- if num is divisible by 3 print 'fizz'\n",
    "- if num is divisible by 5 print 'buzz'\n",
    "- if num is divisible by 3 and 5 print 'fizzbuzz'\n",
    "- otherwise, print the number entered."
   ]
  },
  {
   "cell_type": "code",
   "execution_count": null,
   "id": "e541f7c8",
   "metadata": {},
   "outputs": [
    {
     "name": "stdout",
     "output_type": "stream",
     "text": [
      "Pick a number: 15\n",
      "fizzbuzz\n",
      "Pick a number: 3\n",
      "fizz\n",
      "Pick a number: 5\n",
      "buzz\n",
      "Pick a number: 7\n",
      "7\n"
     ]
    }
   ],
   "source": [
    "while True:\n",
    "    num = input(\"Pick a number: \")\n",
    "    num = int(num)\n",
    "    if num % 5 == 0 and num % 3 == 0:\n",
    "        print(\"fizzbuzz\")\n",
    "    elif num % 3 == 0:\n",
    "        print(\"fizz\")\n",
    "    elif num % 5 == 0:\n",
    "        print(\"buzz\")\n",
    "    else:\n",
    "        print(num)\n",
    "\n"
   ]
  },
  {
   "cell_type": "code",
   "execution_count": null,
   "id": "7427ab8e",
   "metadata": {},
   "outputs": [],
   "source": []
  },
  {
   "cell_type": "code",
   "execution_count": null,
   "id": "edb57e58",
   "metadata": {},
   "outputs": [],
   "source": []
  },
  {
   "cell_type": "code",
   "execution_count": null,
   "id": "aa6734d4",
   "metadata": {},
   "outputs": [],
   "source": []
  },
  {
   "cell_type": "code",
   "execution_count": null,
   "id": "9965f627",
   "metadata": {},
   "outputs": [],
   "source": []
  },
  {
   "cell_type": "code",
   "execution_count": null,
   "id": "ba77433e",
   "metadata": {},
   "outputs": [],
   "source": []
  },
  {
   "cell_type": "code",
   "execution_count": null,
   "id": "3ab9c6e3",
   "metadata": {},
   "outputs": [],
   "source": []
  },
  {
   "cell_type": "code",
   "execution_count": null,
   "id": "52df748a",
   "metadata": {},
   "outputs": [],
   "source": []
  },
  {
   "cell_type": "code",
   "execution_count": null,
   "id": "c40e8483",
   "metadata": {},
   "outputs": [],
   "source": []
  },
  {
   "cell_type": "code",
   "execution_count": null,
   "id": "d6dc834d",
   "metadata": {},
   "outputs": [],
   "source": []
  },
  {
   "cell_type": "code",
   "execution_count": null,
   "id": "324a05d4",
   "metadata": {},
   "outputs": [],
   "source": []
  },
  {
   "cell_type": "code",
   "execution_count": null,
   "id": "fb9d4e91",
   "metadata": {},
   "outputs": [],
   "source": []
  },
  {
   "cell_type": "code",
   "execution_count": null,
   "id": "f11b2777",
   "metadata": {},
   "outputs": [],
   "source": []
  }
 ],
 "metadata": {
  "kernelspec": {
   "display_name": "Python 3",
   "language": "python",
   "name": "python3"
  },
  "language_info": {
   "codemirror_mode": {
    "name": "ipython",
    "version": 3
   },
   "file_extension": ".py",
   "mimetype": "text/x-python",
   "name": "python",
   "nbconvert_exporter": "python",
   "pygments_lexer": "ipython3",
   "version": "3.8.10"
  }
 },
 "nbformat": 4,
 "nbformat_minor": 5
}
