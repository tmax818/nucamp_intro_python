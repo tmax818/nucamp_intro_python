{
 "cells": [
  {
   "cell_type": "markdown",
   "id": "a4d97331",
   "metadata": {},
   "source": []
  },
  {
   "cell_type": "markdown",
   "id": "2fe4206c",
   "metadata": {},
   "source": [
    "# Python Notes\n",
    "- this is a note\n",
    "- I am learning python"
   ]
  },
  {
   "cell_type": "markdown",
   "id": "a2845430",
   "metadata": {},
   "source": [
    "## primitive data types"
   ]
  },
  {
   "cell_type": "code",
   "execution_count": 1,
   "id": "e66d759b",
   "metadata": {},
   "outputs": [
    {
     "data": {
      "text/plain": [
       "int"
      ]
     },
     "execution_count": 1,
     "metadata": {},
     "output_type": "execute_result"
    }
   ],
   "source": [
    "type(42)"
   ]
  },
  {
   "cell_type": "code",
   "execution_count": 2,
   "id": "302e2357",
   "metadata": {},
   "outputs": [
    {
     "data": {
      "text/plain": [
       "float"
      ]
     },
     "execution_count": 2,
     "metadata": {},
     "output_type": "execute_result"
    }
   ],
   "source": [
    "type(3.14)"
   ]
  },
  {
   "cell_type": "code",
   "execution_count": 3,
   "id": "4145358e",
   "metadata": {},
   "outputs": [
    {
     "data": {
      "text/plain": [
       "str"
      ]
     },
     "execution_count": 3,
     "metadata": {},
     "output_type": "execute_result"
    }
   ],
   "source": [
    "type('my string')"
   ]
  },
  {
   "cell_type": "code",
   "execution_count": 4,
   "id": "cdc4bb35",
   "metadata": {},
   "outputs": [
    {
     "data": {
      "text/plain": [
       "bool"
      ]
     },
     "execution_count": 4,
     "metadata": {},
     "output_type": "execute_result"
    }
   ],
   "source": [
    "type(True)"
   ]
  },
  {
   "cell_type": "code",
   "execution_count": 5,
   "id": "f297b3fc",
   "metadata": {},
   "outputs": [
    {
     "data": {
      "text/plain": [
       "NoneType"
      ]
     },
     "execution_count": 5,
     "metadata": {},
     "output_type": "execute_result"
    }
   ],
   "source": [
    "type(None)"
   ]
  },
  {
   "cell_type": "markdown",
   "id": "c4d0cc35",
   "metadata": {},
   "source": [
    "## composite data types"
   ]
  },
  {
   "cell_type": "code",
   "execution_count": 6,
   "id": "733430ea",
   "metadata": {},
   "outputs": [
    {
     "data": {
      "text/plain": [
       "list"
      ]
     },
     "execution_count": 6,
     "metadata": {},
     "output_type": "execute_result"
    }
   ],
   "source": [
    "type([1,2,3])"
   ]
  },
  {
   "cell_type": "code",
   "execution_count": 7,
   "id": "845a4e30",
   "metadata": {},
   "outputs": [
    {
     "data": {
      "text/plain": [
       "dict"
      ]
     },
     "execution_count": 7,
     "metadata": {},
     "output_type": "execute_result"
    }
   ],
   "source": [
    "type({'key': 'value', 'name': \"Tyler\", 'age': 39})"
   ]
  },
  {
   "cell_type": "code",
   "execution_count": 8,
   "id": "d845331d",
   "metadata": {},
   "outputs": [
    {
     "data": {
      "text/plain": [
       "tuple"
      ]
     },
     "execution_count": 8,
     "metadata": {},
     "output_type": "execute_result"
    }
   ],
   "source": [
    "type((23,))"
   ]
  },
  {
   "cell_type": "code",
   "execution_count": 9,
   "id": "926077e1",
   "metadata": {},
   "outputs": [
    {
     "data": {
      "text/plain": [
       "set"
      ]
     },
     "execution_count": 9,
     "metadata": {},
     "output_type": "execute_result"
    }
   ],
   "source": [
    "type({1,2,3,3,3,3})"
   ]
  },
  {
   "cell_type": "markdown",
   "id": "af33ee4e",
   "metadata": {},
   "source": [
    "## arithmetic operators"
   ]
  },
  {
   "cell_type": "code",
   "execution_count": 10,
   "id": "5ce77dd6",
   "metadata": {},
   "outputs": [
    {
     "data": {
      "text/plain": [
       "4"
      ]
     },
     "execution_count": 10,
     "metadata": {},
     "output_type": "execute_result"
    }
   ],
   "source": [
    "2 + 2"
   ]
  },
  {
   "cell_type": "code",
   "execution_count": 11,
   "id": "7ad1efc2",
   "metadata": {},
   "outputs": [
    {
     "data": {
      "text/plain": [
       "2"
      ]
     },
     "execution_count": 11,
     "metadata": {},
     "output_type": "execute_result"
    }
   ],
   "source": [
    "4 - 2"
   ]
  },
  {
   "cell_type": "code",
   "execution_count": 12,
   "id": "08c7c08b",
   "metadata": {},
   "outputs": [
    {
     "data": {
      "text/plain": [
       "42"
      ]
     },
     "execution_count": 12,
     "metadata": {},
     "output_type": "execute_result"
    }
   ],
   "source": [
    "6 * 7"
   ]
  },
  {
   "cell_type": "code",
   "execution_count": 13,
   "id": "0601b836",
   "metadata": {},
   "outputs": [
    {
     "data": {
      "text/plain": [
       "8.4"
      ]
     },
     "execution_count": 13,
     "metadata": {},
     "output_type": "execute_result"
    }
   ],
   "source": [
    "42 / 5"
   ]
  },
  {
   "cell_type": "code",
   "execution_count": 14,
   "id": "b4ad91dd",
   "metadata": {},
   "outputs": [
    {
     "data": {
      "text/plain": [
       "8"
      ]
     },
     "execution_count": 14,
     "metadata": {},
     "output_type": "execute_result"
    }
   ],
   "source": [
    "42 // 5"
   ]
  },
  {
   "cell_type": "code",
   "execution_count": 15,
   "id": "e3489bfe",
   "metadata": {},
   "outputs": [
    {
     "data": {
      "text/plain": [
       "2"
      ]
     },
     "execution_count": 15,
     "metadata": {},
     "output_type": "execute_result"
    }
   ],
   "source": [
    "42 % 5"
   ]
  },
  {
   "cell_type": "code",
   "execution_count": 16,
   "id": "0917de5d",
   "metadata": {},
   "outputs": [
    {
     "data": {
      "text/plain": [
       "256"
      ]
     },
     "execution_count": 16,
     "metadata": {},
     "output_type": "execute_result"
    }
   ],
   "source": [
    "2 ** 8"
   ]
  },
  {
   "cell_type": "code",
   "execution_count": 17,
   "id": "864d49f0",
   "metadata": {},
   "outputs": [],
   "source": [
    "y = 2 * (3 + 4**2) / 19"
   ]
  },
  {
   "cell_type": "code",
   "execution_count": 18,
   "id": "73d90386",
   "metadata": {},
   "outputs": [
    {
     "data": {
      "text/plain": [
       "2.0"
      ]
     },
     "execution_count": 18,
     "metadata": {},
     "output_type": "execute_result"
    }
   ],
   "source": [
    "y"
   ]
  },
  {
   "cell_type": "markdown",
   "id": "2451995c",
   "metadata": {},
   "source": [
    "## comparison operators"
   ]
  },
  {
   "cell_type": "code",
   "execution_count": 19,
   "id": "07b9268b",
   "metadata": {},
   "outputs": [],
   "source": [
    "y = 42\n",
    "x = 7"
   ]
  },
  {
   "cell_type": "code",
   "execution_count": 20,
   "id": "ba90e7b0",
   "metadata": {},
   "outputs": [
    {
     "data": {
      "text/plain": [
       "False"
      ]
     },
     "execution_count": 20,
     "metadata": {},
     "output_type": "execute_result"
    }
   ],
   "source": [
    "x > y "
   ]
  },
  {
   "cell_type": "code",
   "execution_count": 21,
   "id": "0171743e",
   "metadata": {},
   "outputs": [
    {
     "data": {
      "text/plain": [
       "True"
      ]
     },
     "execution_count": 21,
     "metadata": {},
     "output_type": "execute_result"
    }
   ],
   "source": [
    "x < y"
   ]
  },
  {
   "cell_type": "code",
   "execution_count": 22,
   "id": "375fbba1",
   "metadata": {},
   "outputs": [
    {
     "data": {
      "text/plain": [
       "False"
      ]
     },
     "execution_count": 22,
     "metadata": {},
     "output_type": "execute_result"
    }
   ],
   "source": [
    "x == y"
   ]
  },
  {
   "cell_type": "code",
   "execution_count": 23,
   "id": "29bbfe1e",
   "metadata": {},
   "outputs": [
    {
     "data": {
      "text/plain": [
       "True"
      ]
     },
     "execution_count": 23,
     "metadata": {},
     "output_type": "execute_result"
    }
   ],
   "source": [
    "x != y"
   ]
  },
  {
   "cell_type": "code",
   "execution_count": 24,
   "id": "3e09f5a7",
   "metadata": {},
   "outputs": [
    {
     "data": {
      "text/plain": [
       "True"
      ]
     },
     "execution_count": 24,
     "metadata": {},
     "output_type": "execute_result"
    }
   ],
   "source": [
    "43 == 43"
   ]
  },
  {
   "cell_type": "code",
   "execution_count": 25,
   "id": "bb276b07",
   "metadata": {},
   "outputs": [
    {
     "data": {
      "text/plain": [
       "True"
      ]
     },
     "execution_count": 25,
     "metadata": {},
     "output_type": "execute_result"
    }
   ],
   "source": [
    "43 != 42"
   ]
  },
  {
   "cell_type": "code",
   "execution_count": null,
   "id": "3ca2ddf7",
   "metadata": {},
   "outputs": [],
   "source": []
  },
  {
   "cell_type": "code",
   "execution_count": null,
   "id": "d0bf5adb",
   "metadata": {},
   "outputs": [],
   "source": []
  },
  {
   "cell_type": "markdown",
   "id": "31b18519",
   "metadata": {},
   "source": [
    "## logical operators\n",
    "\n",
    "- not\n",
    "- and\n",
    "- or"
   ]
  },
  {
   "cell_type": "markdown",
   "id": "68eefc1d",
   "metadata": {},
   "source": [
    "|p|not| not p|\n",
    "|---|---|---|\n",
    "|True|not|False| \n",
    "|False|not|True| \n"
   ]
  },
  {
   "cell_type": "code",
   "execution_count": 26,
   "id": "925735b7",
   "metadata": {},
   "outputs": [
    {
     "data": {
      "text/plain": [
       "False"
      ]
     },
     "execution_count": 26,
     "metadata": {},
     "output_type": "execute_result"
    }
   ],
   "source": [
    "not True"
   ]
  },
  {
   "cell_type": "code",
   "execution_count": 27,
   "id": "32d2ef2f",
   "metadata": {},
   "outputs": [
    {
     "data": {
      "text/plain": [
       "True"
      ]
     },
     "execution_count": 27,
     "metadata": {},
     "output_type": "execute_result"
    }
   ],
   "source": [
    "not False"
   ]
  },
  {
   "cell_type": "markdown",
   "id": "7967ae76",
   "metadata": {},
   "source": [
    "## Truthy and Falsy"
   ]
  },
  {
   "cell_type": "code",
   "execution_count": 30,
   "id": "ee7c3733",
   "metadata": {},
   "outputs": [
    {
     "data": {
      "text/plain": [
       "False"
      ]
     },
     "execution_count": 30,
     "metadata": {},
     "output_type": "execute_result"
    }
   ],
   "source": [
    "bool(\"\")"
   ]
  },
  {
   "cell_type": "code",
   "execution_count": null,
   "id": "dc564b5f",
   "metadata": {},
   "outputs": [],
   "source": []
  },
  {
   "cell_type": "code",
   "execution_count": null,
   "id": "e916c682",
   "metadata": {},
   "outputs": [],
   "source": []
  },
  {
   "cell_type": "code",
   "execution_count": null,
   "id": "d1175312",
   "metadata": {},
   "outputs": [],
   "source": []
  },
  {
   "cell_type": "markdown",
   "id": "d04d9d20",
   "metadata": {},
   "source": [
    "|p|and|q|?|\n",
    "|---|---|---|---|\n",
    "|True|and|True| ?\n",
    "|True|and|False| ?\n",
    "|False|and|True| ?\n",
    "|False|and|False| ?"
   ]
  },
  {
   "cell_type": "code",
   "execution_count": 32,
   "id": "871808d6",
   "metadata": {},
   "outputs": [
    {
     "data": {
      "text/plain": [
       "False"
      ]
     },
     "execution_count": 32,
     "metadata": {},
     "output_type": "execute_result"
    }
   ],
   "source": [
    "True and False"
   ]
  },
  {
   "cell_type": "code",
   "execution_count": null,
   "id": "337af8bf",
   "metadata": {},
   "outputs": [],
   "source": []
  },
  {
   "cell_type": "code",
   "execution_count": null,
   "id": "7b6f832a",
   "metadata": {},
   "outputs": [],
   "source": []
  },
  {
   "cell_type": "markdown",
   "id": "0d537d66",
   "metadata": {},
   "source": [
    "|p|or|q|?|\n",
    "|---|---|---|---|\n",
    "|True|or|True| ?\n",
    "|True|or|False| ?\n",
    "|False|or|True| ?\n",
    "|False|or|False| ?"
   ]
  },
  {
   "cell_type": "code",
   "execution_count": null,
   "id": "5052a6f1",
   "metadata": {},
   "outputs": [],
   "source": []
  },
  {
   "cell_type": "markdown",
   "id": "733ece0a",
   "metadata": {},
   "source": [
    "## if\n",
    "- if\n",
    "- elif\n",
    "- else\n",
    "\n",
    "```python\n",
    "if bool:\n",
    "    # do something if bool is true\n",
    "elif other_bool:\n",
    "    # do something if bool is false and other_bool is true\n",
    "else:\n",
    "    # do something if bool is false\n",
    "```"
   ]
  },
  {
   "cell_type": "code",
   "execution_count": 43,
   "id": "3f5772e9",
   "metadata": {},
   "outputs": [],
   "source": [
    "condition = False\n",
    "other_condition = False\n",
    "\n",
    "if condition:\n",
    "    print(\"it's true\")\n",
    "\n",
    "if other_condition:\n",
    "    print(\"the other condition is true\")\n"
   ]
  },
  {
   "cell_type": "code",
   "execution_count": null,
   "id": "668d96bc",
   "metadata": {},
   "outputs": [],
   "source": []
  },
  {
   "cell_type": "markdown",
   "id": "9a48b369",
   "metadata": {},
   "source": [
    "# code blocks\n",
    "\n",
    "- what is a code block??"
   ]
  },
  {
   "cell_type": "code",
   "execution_count": 45,
   "id": "09ed11b1",
   "metadata": {},
   "outputs": [
    {
     "name": "stdout",
     "output_type": "stream",
     "text": [
      "wear a jacket.\n",
      "put on mittens.\n"
     ]
    }
   ],
   "source": [
    "weather = 'cold'\n",
    "if weather == 'cold':\n",
    "    print('wear a jacket.')\n",
    "    print('put on mittens.')"
   ]
  },
  {
   "cell_type": "code",
   "execution_count": null,
   "id": "114c1730",
   "metadata": {},
   "outputs": [],
   "source": []
  },
  {
   "cell_type": "code",
   "execution_count": null,
   "id": "492a169c",
   "metadata": {},
   "outputs": [],
   "source": []
  },
  {
   "cell_type": "code",
   "execution_count": null,
   "id": "91c38df4",
   "metadata": {},
   "outputs": [],
   "source": []
  },
  {
   "cell_type": "markdown",
   "id": "6bb8977a",
   "metadata": {},
   "source": [
    "## While\n",
    "- break\n",
    "- continue"
   ]
  },
  {
   "cell_type": "code",
   "execution_count": 48,
   "id": "f992e07f",
   "metadata": {},
   "outputs": [
    {
     "name": "stdout",
     "output_type": "stream",
     "text": [
      "5\n",
      "4\n",
      "3\n",
      "2\n",
      "1\n",
      "blastoff!\n"
     ]
    }
   ],
   "source": [
    "n = 5\n",
    "while n > 0:\n",
    "    print(n)\n",
    "    n -= 1\n",
    "print('blastoff!')"
   ]
  },
  {
   "cell_type": "code",
   "execution_count": 49,
   "id": "837901a4",
   "metadata": {},
   "outputs": [
    {
     "name": "stdout",
     "output_type": "stream",
     "text": [
      "0\n"
     ]
    }
   ],
   "source": [
    "print(n)"
   ]
  },
  {
   "cell_type": "code",
   "execution_count": null,
   "id": "42253ff0",
   "metadata": {},
   "outputs": [],
   "source": []
  },
  {
   "cell_type": "code",
   "execution_count": 50,
   "id": "87bbfc56",
   "metadata": {},
   "outputs": [
    {
     "name": "stdout",
     "output_type": "stream",
     "text": [
      "5\n",
      "4\n",
      "3\n"
     ]
    }
   ],
   "source": [
    "n = 5\n",
    "while n > 1:\n",
    "    print(n)\n",
    "    n = n - 1\n",
    "    if n == 2:\n",
    "        break"
   ]
  },
  {
   "cell_type": "code",
   "execution_count": 51,
   "id": "096ac201",
   "metadata": {},
   "outputs": [
    {
     "name": "stdout",
     "output_type": "stream",
     "text": [
      "2\n"
     ]
    }
   ],
   "source": [
    "print(n)"
   ]
  },
  {
   "cell_type": "markdown",
   "id": "d6fc252f",
   "metadata": {},
   "source": [
    "## continue\n"
   ]
  },
  {
   "cell_type": "code",
   "execution_count": null,
   "id": "f946a391",
   "metadata": {},
   "outputs": [
    {
     "name": "stdout",
     "output_type": "stream",
     "text": [
      "h\n"
     ]
    }
   ],
   "source": [
    "print('h')\n",
    "n = 5\n",
    "while n > 1:\n",
    "    pass"
   ]
  },
  {
   "cell_type": "code",
   "execution_count": 54,
   "id": "4ba0b482",
   "metadata": {},
   "outputs": [],
   "source": [
    "def decriment():\n",
    "    pass\n"
   ]
  },
  {
   "cell_type": "markdown",
   "id": "6ea859de",
   "metadata": {},
   "source": [
    "## infinite while and input"
   ]
  },
  {
   "cell_type": "code",
   "execution_count": null,
   "id": "57a616c2",
   "metadata": {},
   "outputs": [],
   "source": [
    "while True:\n",
    "    user_input = input(\"Do you want to break out of this loop?\")\n",
    "    if user_input == 'yes':\n",
    "        print(\"Goodbye\")\n",
    "        break\n",
    "    print(\"one more time\")"
   ]
  },
  {
   "cell_type": "markdown",
   "id": "db795616",
   "metadata": {},
   "source": [
    "## Fizzbuzz\n",
    "\n",
    "- if num is divisible by 3 print 'fizz'\n",
    "- if num is divisible by 5 print 'buzz'\n",
    "- if num is divisible by 3 and 5 print 'fizzbuzz'"
   ]
  },
  {
   "cell_type": "code",
   "execution_count": null,
   "id": "e541f7c8",
   "metadata": {},
   "outputs": [],
   "source": []
  },
  {
   "cell_type": "code",
   "execution_count": null,
   "id": "7427ab8e",
   "metadata": {},
   "outputs": [],
   "source": []
  },
  {
   "cell_type": "code",
   "execution_count": null,
   "id": "edb57e58",
   "metadata": {},
   "outputs": [],
   "source": []
  },
  {
   "cell_type": "code",
   "execution_count": null,
   "id": "aa6734d4",
   "metadata": {},
   "outputs": [],
   "source": []
  },
  {
   "cell_type": "code",
   "execution_count": null,
   "id": "9965f627",
   "metadata": {},
   "outputs": [],
   "source": []
  },
  {
   "cell_type": "code",
   "execution_count": null,
   "id": "ba77433e",
   "metadata": {},
   "outputs": [],
   "source": []
  },
  {
   "cell_type": "code",
   "execution_count": null,
   "id": "3ab9c6e3",
   "metadata": {},
   "outputs": [],
   "source": []
  },
  {
   "cell_type": "code",
   "execution_count": null,
   "id": "52df748a",
   "metadata": {},
   "outputs": [],
   "source": []
  },
  {
   "cell_type": "code",
   "execution_count": null,
   "id": "c40e8483",
   "metadata": {},
   "outputs": [],
   "source": []
  },
  {
   "cell_type": "code",
   "execution_count": null,
   "id": "d6dc834d",
   "metadata": {},
   "outputs": [],
   "source": []
  },
  {
   "cell_type": "code",
   "execution_count": null,
   "id": "324a05d4",
   "metadata": {},
   "outputs": [],
   "source": []
  },
  {
   "cell_type": "code",
   "execution_count": null,
   "id": "fb9d4e91",
   "metadata": {},
   "outputs": [],
   "source": []
  },
  {
   "cell_type": "code",
   "execution_count": null,
   "id": "f11b2777",
   "metadata": {},
   "outputs": [],
   "source": []
  }
 ],
 "metadata": {
  "kernelspec": {
   "display_name": "Python 3",
   "language": "python",
   "name": "python3"
  },
  "language_info": {
   "codemirror_mode": {
    "name": "ipython",
    "version": 3
   },
   "file_extension": ".py",
   "mimetype": "text/x-python",
   "name": "python",
   "nbconvert_exporter": "python",
   "pygments_lexer": "ipython3",
   "version": "3.8.10"
  }
 },
 "nbformat": 4,
 "nbformat_minor": 5
}
