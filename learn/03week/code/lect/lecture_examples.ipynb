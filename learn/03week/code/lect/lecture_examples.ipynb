{
 "cells": [
  {
   "cell_type": "code",
   "execution_count": 1,
   "id": "b75d38c3",
   "metadata": {},
   "outputs": [],
   "source": [
    "my_list = [1,2,3,4]"
   ]
  },
  {
   "cell_type": "code",
   "execution_count": 42,
   "id": "db209927",
   "metadata": {},
   "outputs": [],
   "source": [
    "tyler = {'name': 'Tyler', 'age': 39}"
   ]
  },
  {
   "cell_type": "code",
   "execution_count": 44,
   "id": "74d0c3ca",
   "metadata": {},
   "outputs": [],
   "source": [
    "tyler['hobbies'] = []"
   ]
  },
  {
   "cell_type": "code",
   "execution_count": 45,
   "id": "f5ca39a6",
   "metadata": {},
   "outputs": [
    {
     "data": {
      "text/plain": [
       "{'name': 'Tyler', 'age': 39, 'hobbies': []}"
      ]
     },
     "execution_count": 45,
     "metadata": {},
     "output_type": "execute_result"
    }
   ],
   "source": [
    "tyler"
   ]
  },
  {
   "cell_type": "code",
   "execution_count": 47,
   "id": "1bfe0795",
   "metadata": {},
   "outputs": [],
   "source": [
    "tyler['hobbies'].append('reading')"
   ]
  },
  {
   "cell_type": "code",
   "execution_count": 48,
   "id": "f41d9e49",
   "metadata": {},
   "outputs": [
    {
     "data": {
      "text/plain": [
       "{'name': 'Tyler', 'age': 39, 'hobbies': ['reading']}"
      ]
     },
     "execution_count": 48,
     "metadata": {},
     "output_type": "execute_result"
    }
   ],
   "source": [
    "tyler"
   ]
  },
  {
   "cell_type": "code",
   "execution_count": 51,
   "id": "83ac4d35",
   "metadata": {},
   "outputs": [
    {
     "data": {
      "text/plain": [
       "dict_items([('name', 'Tyler'), ('age', 39), ('hobbies', ['reading'])])"
      ]
     },
     "execution_count": 51,
     "metadata": {},
     "output_type": "execute_result"
    }
   ],
   "source": [
    "tyler.items()"
   ]
  },
  {
   "cell_type": "code",
   "execution_count": 53,
   "id": "b450d123",
   "metadata": {},
   "outputs": [
    {
     "name": "stdout",
     "output_type": "stream",
     "text": [
      "NAME\n",
      "AGE\n",
      "HOBBIES\n"
     ]
    }
   ],
   "source": [
    "for k,v in tyler.items():\n",
    "    print(k.upper())"
   ]
  },
  {
   "cell_type": "code",
   "execution_count": 57,
   "id": "fe7fa46f",
   "metadata": {},
   "outputs": [],
   "source": [
    "my_tuple = (\"Carlos\", True, [])"
   ]
  },
  {
   "cell_type": "code",
   "execution_count": 58,
   "id": "ded18218",
   "metadata": {},
   "outputs": [
    {
     "data": {
      "text/plain": [
       "1"
      ]
     },
     "execution_count": 58,
     "metadata": {},
     "output_type": "execute_result"
    }
   ],
   "source": [
    "my_tuple.count(True)"
   ]
  },
  {
   "cell_type": "code",
   "execution_count": 59,
   "id": "3c3a8f66",
   "metadata": {},
   "outputs": [
    {
     "data": {
      "text/plain": [
       "1"
      ]
     },
     "execution_count": 59,
     "metadata": {},
     "output_type": "execute_result"
    }
   ],
   "source": [
    "my_tuple.index(True)"
   ]
  },
  {
   "cell_type": "code",
   "execution_count": 61,
   "id": "4ebcde3f",
   "metadata": {},
   "outputs": [],
   "source": [
    "my_tuple[2].append('cool guy')"
   ]
  },
  {
   "cell_type": "code",
   "execution_count": 62,
   "id": "76867d99",
   "metadata": {},
   "outputs": [
    {
     "data": {
      "text/plain": [
       "('Carlos', True, ['cool guy'])"
      ]
     },
     "execution_count": 62,
     "metadata": {},
     "output_type": "execute_result"
    }
   ],
   "source": [
    "my_tuple"
   ]
  },
  {
   "cell_type": "code",
   "execution_count": 63,
   "id": "7e747482",
   "metadata": {},
   "outputs": [],
   "source": [
    "a = 1\n",
    "b = 2"
   ]
  },
  {
   "cell_type": "code",
   "execution_count": 64,
   "id": "ba1fab24",
   "metadata": {},
   "outputs": [
    {
     "data": {
      "text/plain": [
       "1"
      ]
     },
     "execution_count": 64,
     "metadata": {},
     "output_type": "execute_result"
    }
   ],
   "source": [
    "a"
   ]
  },
  {
   "cell_type": "code",
   "execution_count": 65,
   "id": "def0aaf6",
   "metadata": {},
   "outputs": [
    {
     "data": {
      "text/plain": [
       "2"
      ]
     },
     "execution_count": 65,
     "metadata": {},
     "output_type": "execute_result"
    }
   ],
   "source": [
    "b"
   ]
  },
  {
   "cell_type": "code",
   "execution_count": 66,
   "id": "3305adfa",
   "metadata": {},
   "outputs": [],
   "source": [
    "a, b = 3, 4"
   ]
  },
  {
   "cell_type": "code",
   "execution_count": 67,
   "id": "61836d91",
   "metadata": {},
   "outputs": [
    {
     "data": {
      "text/plain": [
       "3"
      ]
     },
     "execution_count": 67,
     "metadata": {},
     "output_type": "execute_result"
    }
   ],
   "source": [
    "a"
   ]
  },
  {
   "cell_type": "code",
   "execution_count": 68,
   "id": "2b5581cd",
   "metadata": {},
   "outputs": [
    {
     "data": {
      "text/plain": [
       "4"
      ]
     },
     "execution_count": 68,
     "metadata": {},
     "output_type": "execute_result"
    }
   ],
   "source": [
    "b"
   ]
  },
  {
   "cell_type": "code",
   "execution_count": 69,
   "id": "6ec1fde5",
   "metadata": {},
   "outputs": [],
   "source": [
    "b, a = 3, 4"
   ]
  },
  {
   "cell_type": "code",
   "execution_count": 70,
   "id": "309d4116",
   "metadata": {},
   "outputs": [
    {
     "data": {
      "text/plain": [
       "3"
      ]
     },
     "execution_count": 70,
     "metadata": {},
     "output_type": "execute_result"
    }
   ],
   "source": [
    "b"
   ]
  },
  {
   "cell_type": "code",
   "execution_count": 71,
   "id": "b1026775",
   "metadata": {},
   "outputs": [
    {
     "data": {
      "text/plain": [
       "4"
      ]
     },
     "execution_count": 71,
     "metadata": {},
     "output_type": "execute_result"
    }
   ],
   "source": [
    "a"
   ]
  },
  {
   "cell_type": "code",
   "execution_count": 72,
   "id": "424e9410",
   "metadata": {},
   "outputs": [
    {
     "data": {
      "text/plain": [
       "('Carlos', True, ['cool guy'])"
      ]
     },
     "execution_count": 72,
     "metadata": {},
     "output_type": "execute_result"
    }
   ],
   "source": [
    "my_tuple"
   ]
  },
  {
   "cell_type": "code",
   "execution_count": 73,
   "id": "f2128e12",
   "metadata": {},
   "outputs": [],
   "source": [
    "name, isCool, facts = my_tuple"
   ]
  },
  {
   "cell_type": "code",
   "execution_count": 79,
   "id": "93e4a9df",
   "metadata": {},
   "outputs": [
    {
     "data": {
      "text/plain": [
       "139796681778864"
      ]
     },
     "execution_count": 79,
     "metadata": {},
     "output_type": "execute_result"
    }
   ],
   "source": [
    "id(name)"
   ]
  },
  {
   "cell_type": "code",
   "execution_count": 80,
   "id": "5e433391",
   "metadata": {},
   "outputs": [
    {
     "data": {
      "text/plain": [
       "139796681778864"
      ]
     },
     "execution_count": 80,
     "metadata": {},
     "output_type": "execute_result"
    }
   ],
   "source": [
    "id(my_tuple[0])"
   ]
  },
  {
   "cell_type": "code",
   "execution_count": 86,
   "id": "f76f056a",
   "metadata": {},
   "outputs": [],
   "source": [
    "my_stuff = [1,1,1,1,2,3,4, (5,6,7)]"
   ]
  },
  {
   "cell_type": "code",
   "execution_count": 87,
   "id": "23219974",
   "metadata": {},
   "outputs": [],
   "source": [
    "my_stuff = set(my_stuff)"
   ]
  }
 ],
 "metadata": {
  "kernelspec": {
   "display_name": "Python 3",
   "language": "python",
   "name": "python3"
  },
  "language_info": {
   "codemirror_mode": {
    "name": "ipython",
    "version": 3
   },
   "file_extension": ".py",
   "mimetype": "text/x-python",
   "name": "python",
   "nbconvert_exporter": "python",
   "pygments_lexer": "ipython3",
   "version": "3.8.8"
  }
 },
 "nbformat": 4,
 "nbformat_minor": 5
}
