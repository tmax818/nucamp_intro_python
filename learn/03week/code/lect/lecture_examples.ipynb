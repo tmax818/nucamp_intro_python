{
 "cells": [
  {
   "cell_type": "code",
   "execution_count": null,
   "id": "b75d38c3",
   "metadata": {},
   "outputs": [],
   "source": [
    "my_list = [1,2,3,4]"
   ]
  },
  {
   "cell_type": "code",
   "execution_count": null,
   "id": "db209927",
   "metadata": {},
   "outputs": [],
   "source": [
    "tyler = {'name': 'Tyler', 'age': 39}"
   ]
  },
  {
   "cell_type": "code",
   "execution_count": null,
   "id": "74d0c3ca",
   "metadata": {},
   "outputs": [],
   "source": [
    "tyler['hobbies'] = []"
   ]
  },
  {
   "cell_type": "code",
   "execution_count": null,
   "id": "b450d123",
   "metadata": {},
   "outputs": [],
   "source": [
    "for k,v in tyler.items():\n",
    "    print(k.upper())"
   ]
  },
  {
   "cell_type": "code",
   "execution_count": null,
   "id": "7e747482",
   "metadata": {},
   "outputs": [],
   "source": [
    "a = 1\n",
    "b = 2"
   ]
  }
 ],
 "metadata": {
  "kernelspec": {
   "display_name": "Python 3",
   "language": "python",
   "name": "python3"
  },
  "language_info": {
   "codemirror_mode": {
    "name": "ipython",
    "version": 3
   },
   "file_extension": ".py",
   "mimetype": "text/x-python",
   "name": "python",
   "nbconvert_exporter": "python",
   "pygments_lexer": "ipython3",
   "version": "3.8.8"
  }
 },
 "nbformat": 4,
 "nbformat_minor": 5
}
