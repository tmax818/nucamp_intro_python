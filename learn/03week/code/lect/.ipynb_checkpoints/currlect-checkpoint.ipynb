{
 "cells": [
  {
   "cell_type": "markdown",
   "id": "421e038d",
   "metadata": {},
   "source": [
    "# Lists"
   ]
  },
  {
   "cell_type": "code",
   "execution_count": null,
   "id": "a51f0cfe",
   "metadata": {},
   "outputs": [],
   "source": []
  },
  {
   "cell_type": "code",
   "execution_count": null,
   "id": "4cb8e331",
   "metadata": {},
   "outputs": [],
   "source": [
    "my_list = [\"Charlie\", \"Alpha\", \"Delta\", \"Bravo\", \"Echo\", \"Foxtrot\"]"
   ]
  },
  {
   "cell_type": "code",
   "execution_count": null,
   "id": "38b7c334",
   "metadata": {},
   "outputs": [],
   "source": [
    "len(my_list)"
   ]
  },
  {
   "cell_type": "code",
   "execution_count": null,
   "id": "5b1e6c52",
   "metadata": {},
   "outputs": [],
   "source": [
    "for i in range(len(my_list)):\n",
    "    my_list[i] = my_list[i].lower()\n"
   ]
  },
  {
   "cell_type": "code",
   "execution_count": null,
   "id": "acb6d307",
   "metadata": {},
   "outputs": [],
   "source": [
    "my_list"
   ]
  },
  {
   "cell_type": "code",
   "execution_count": null,
   "id": "d2a7f033",
   "metadata": {},
   "outputs": [],
   "source": [
    "my_list.append(\"Golf\")"
   ]
  },
  {
   "cell_type": "code",
   "execution_count": null,
   "id": "a8aa043e",
   "metadata": {},
   "outputs": [],
   "source": [
    "my_string = \"Python\""
   ]
  },
  {
   "cell_type": "code",
   "execution_count": null,
   "id": "5391ad8a",
   "metadata": {},
   "outputs": [],
   "source": [
    "my_lower_string = my_string.lower()"
   ]
  },
  {
   "cell_type": "code",
   "execution_count": null,
   "id": "e6741901",
   "metadata": {},
   "outputs": [],
   "source": [
    "my_lower_string"
   ]
  },
  {
   "cell_type": "code",
   "execution_count": null,
   "id": "d7350854",
   "metadata": {},
   "outputs": [],
   "source": []
  },
  {
   "cell_type": "code",
   "execution_count": null,
   "id": "224ba1f9",
   "metadata": {},
   "outputs": [],
   "source": [
    "tuple1 = (1, 10, 100, 1000)"
   ]
  },
  {
   "cell_type": "code",
   "execution_count": null,
   "id": "cd3df632",
   "metadata": {},
   "outputs": [],
   "source": [
    "tuple1"
   ]
  },
  {
   "cell_type": "code",
   "execution_count": null,
   "id": "18f029cd",
   "metadata": {},
   "outputs": [],
   "source": [
    "dir(tuple1)"
   ]
  },
  {
   "cell_type": "code",
   "execution_count": null,
   "id": "aa89de3f",
   "metadata": {},
   "outputs": [],
   "source": [
    "dir(my_list)"
   ]
  },
  {
   "cell_type": "code",
   "execution_count": null,
   "id": "eac0ccda",
   "metadata": {},
   "outputs": [],
   "source": [
    "person = (\"Aviv\", 24, True)"
   ]
  },
  {
   "cell_type": "code",
   "execution_count": null,
   "id": "e6ad6e68",
   "metadata": {},
   "outputs": [],
   "source": [
    "name, age, admin = person"
   ]
  },
  {
   "cell_type": "code",
   "execution_count": null,
   "id": "e1283fe5",
   "metadata": {},
   "outputs": [],
   "source": [
    "name"
   ]
  },
  {
   "cell_type": "code",
   "execution_count": null,
   "id": "2f32dbf1",
   "metadata": {},
   "outputs": [],
   "source": [
    "age"
   ]
  },
  {
   "cell_type": "code",
   "execution_count": null,
   "id": "02b17e47",
   "metadata": {},
   "outputs": [],
   "source": [
    "admin"
   ]
  },
  {
   "cell_type": "code",
   "execution_count": null,
   "id": "8e9cbcae",
   "metadata": {},
   "outputs": [],
   "source": [
    "def add(*args):\n",
    "    total = 0\n",
    "    for i in args:\n",
    "        total += i\n",
    "    return total"
   ]
  },
  {
   "cell_type": "code",
   "execution_count": null,
   "id": "5b2b3a71",
   "metadata": {},
   "outputs": [],
   "source": [
    "add(1,2,3,4,5,6,7,8,9,10)"
   ]
  },
  {
   "cell_type": "code",
   "execution_count": null,
   "id": "18d8cd77",
   "metadata": {},
   "outputs": [],
   "source": []
  },
  {
   "cell_type": "code",
   "execution_count": 1,
   "id": "5abf293e",
   "metadata": {},
   "outputs": [],
   "source": [
    "ingredients = {\"butter\": \"1 stick\", \"flour\": \"2 cups\", \"salt\": \"1 tsp\"}"
   ]
  },
  {
   "cell_type": "code",
   "execution_count": null,
   "id": "5692c886",
   "metadata": {},
   "outputs": [],
   "source": []
  },
  {
   "cell_type": "code",
   "execution_count": null,
   "id": "d163b360",
   "metadata": {},
   "outputs": [],
   "source": []
  },
  {
   "cell_type": "code",
   "execution_count": null,
   "id": "55aad10a",
   "metadata": {},
   "outputs": [],
   "source": []
  },
  {
   "cell_type": "code",
   "execution_count": null,
   "id": "7fff359d",
   "metadata": {},
   "outputs": [],
   "source": []
  },
  {
   "cell_type": "code",
   "execution_count": null,
   "id": "c6bf4c99",
   "metadata": {},
   "outputs": [],
   "source": []
  },
  {
   "cell_type": "code",
   "execution_count": null,
   "id": "931ac0a0",
   "metadata": {},
   "outputs": [],
   "source": []
  },
  {
   "cell_type": "code",
   "execution_count": null,
   "id": "7695cbc9",
   "metadata": {},
   "outputs": [],
   "source": []
  },
  {
   "cell_type": "code",
   "execution_count": null,
   "id": "95d8e42c",
   "metadata": {},
   "outputs": [],
   "source": []
  },
  {
   "cell_type": "code",
   "execution_count": null,
   "id": "b1ed2152",
   "metadata": {},
   "outputs": [],
   "source": []
  },
  {
   "cell_type": "code",
   "execution_count": null,
   "id": "eec40b82",
   "metadata": {},
   "outputs": [],
   "source": []
  }
 ],
 "metadata": {
  "kernelspec": {
   "display_name": "Python 3.8.8 64-bit ('base': conda)",
   "language": "python",
   "name": "python388jvsc74a57bd057d418549deb2b28c2bac4f6acf8fe5c78b0c3ba07880bf4f33452d12e17b367"
  },
  "language_info": {
   "codemirror_mode": {
    "name": "ipython",
    "version": 3
   },
   "file_extension": ".py",
   "mimetype": "text/x-python",
   "name": "python",
   "nbconvert_exporter": "python",
   "pygments_lexer": "ipython3",
   "version": "3.8.8"
  }
 },
 "nbformat": 4,
 "nbformat_minor": 5
}
