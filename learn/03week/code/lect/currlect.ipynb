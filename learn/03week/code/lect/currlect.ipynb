{
 "cells": [
  {
   "cell_type": "markdown",
   "id": "7aefdddd",
   "metadata": {},
   "source": [
    "# Lists"
   ]
  },
  {
   "cell_type": "code",
   "execution_count": null,
   "id": "87d2a2fe",
   "metadata": {},
   "outputs": [],
   "source": []
  },
  {
   "cell_type": "code",
   "execution_count": null,
   "id": "4cb8e331",
   "metadata": {},
   "outputs": [],
   "source": [
    "my_list = [\"Charlie\", \"Alpha\", \"Delta\", \"Bravo\", \"Echo\", \"Foxtrot\"]"
   ]
  },
  {
   "cell_type": "code",
   "execution_count": null,
   "id": "29101f7c",
   "metadata": {},
   "outputs": [],
   "source": [
    "len(my_list)"
   ]
  },
  {
   "cell_type": "code",
   "execution_count": null,
   "id": "bb745fcc",
   "metadata": {},
   "outputs": [],
   "source": [
    "for i in range(len(my_list)):\n",
    "    my_list[i] = my_list[i].lower()\n"
   ]
  },
  {
   "cell_type": "code",
   "execution_count": null,
   "id": "8730fb4e",
   "metadata": {},
   "outputs": [],
   "source": [
    "my_list"
   ]
  },
  {
   "cell_type": "code",
   "execution_count": null,
   "id": "a21177cd",
   "metadata": {},
   "outputs": [],
   "source": [
    "my_list.append(\"Golf\")"
   ]
  },
  {
   "cell_type": "code",
   "execution_count": null,
   "id": "fb7193de",
   "metadata": {},
   "outputs": [],
   "source": [
    "my_string = \"Python\""
   ]
  },
  {
   "cell_type": "code",
   "execution_count": null,
   "id": "975c922a",
   "metadata": {},
   "outputs": [],
   "source": [
    "my_lower_string = my_string.lower()"
   ]
  },
  {
   "cell_type": "code",
   "execution_count": null,
   "id": "a1c25ae9",
   "metadata": {},
   "outputs": [],
   "source": [
    "my_lower_string"
   ]
  },
  {
   "cell_type": "code",
   "execution_count": null,
   "id": "d7af3636",
   "metadata": {},
   "outputs": [],
   "source": []
  },
  {
   "cell_type": "code",
   "execution_count": null,
   "id": "cced35ac",
   "metadata": {},
   "outputs": [],
   "source": [
    "tuple1 = (1, 10, 100, 1000)"
   ]
  },
  {
   "cell_type": "code",
   "execution_count": null,
   "id": "31acdbf7",
   "metadata": {},
   "outputs": [],
   "source": [
    "tuple1"
   ]
  },
  {
   "cell_type": "code",
   "execution_count": null,
   "id": "b286abb6",
   "metadata": {},
   "outputs": [],
   "source": [
    "dir(tuple1)"
   ]
  },
  {
   "cell_type": "code",
   "execution_count": null,
   "id": "1002893d",
   "metadata": {},
   "outputs": [],
   "source": [
    "dir(my_list)"
   ]
  },
  {
   "cell_type": "code",
   "execution_count": null,
   "id": "0734ca47",
   "metadata": {},
   "outputs": [],
   "source": [
    "person = (\"Aviv\", 24, True)"
   ]
  },
  {
   "cell_type": "code",
   "execution_count": null,
   "id": "3eb7e27a",
   "metadata": {},
   "outputs": [],
   "source": [
    "name, age, admin = person"
   ]
  },
  {
   "cell_type": "code",
   "execution_count": null,
   "id": "2ccf2eba",
   "metadata": {},
   "outputs": [],
   "source": [
    "name"
   ]
  },
  {
   "cell_type": "code",
   "execution_count": null,
   "id": "2c389fe8",
   "metadata": {},
   "outputs": [],
   "source": [
    "age"
   ]
  },
  {
   "cell_type": "code",
   "execution_count": null,
   "id": "bf7c9568",
   "metadata": {},
   "outputs": [],
   "source": [
    "admin"
   ]
  },
  {
   "cell_type": "code",
   "execution_count": null,
   "id": "1e8a2eda",
   "metadata": {},
   "outputs": [],
   "source": [
    "def add(*args):\n",
    "    total = 0\n",
    "    for i in args:\n",
    "        total += i\n",
    "    return total"
   ]
  },
  {
   "cell_type": "code",
   "execution_count": null,
   "id": "137aed12",
   "metadata": {},
   "outputs": [],
   "source": [
    "add(1,2,3,4,5,6,7,8,9,10)"
   ]
  },
  {
   "cell_type": "code",
   "execution_count": null,
   "id": "73eb2037",
   "metadata": {},
   "outputs": [],
   "source": []
  },
  {
   "cell_type": "code",
   "execution_count": 1,
   "id": "98680502",
   "metadata": {},
   "outputs": [],
   "source": [
    "ingredients = {\"butter\": \"1 stick\", \"flour\": \"2 cups\", \"salt\": \"1 tsp\"}"
   ]
  },
  {
   "cell_type": "code",
   "execution_count": 4,
   "id": "84a73c17",
   "metadata": {},
   "outputs": [],
   "source": [
    "ingredients[\"butter\"]= '2 sticks'"
   ]
  },
  {
   "cell_type": "code",
   "execution_count": 5,
   "id": "b02cea91",
   "metadata": {},
   "outputs": [
    {
     "data": {
      "text/plain": [
       "{'butter': '2 sticks', 'flour': '2 cups', 'salt': '1 tsp'}"
      ]
     },
     "execution_count": 5,
     "metadata": {},
     "output_type": "execute_result"
    }
   ],
   "source": [
    "ingredients"
   ]
  },
  {
   "cell_type": "code",
   "execution_count": 6,
   "id": "83f29483",
   "metadata": {},
   "outputs": [],
   "source": [
    "person = {\"name\": \"Andy\", \"age\": 25}"
   ]
  },
  {
   "cell_type": "code",
   "execution_count": 7,
   "id": "456ece92",
   "metadata": {},
   "outputs": [
    {
     "data": {
      "text/plain": [
       "25"
      ]
     },
     "execution_count": 7,
     "metadata": {},
     "output_type": "execute_result"
    }
   ],
   "source": [
    "person['age']"
   ]
  },
  {
   "cell_type": "code",
   "execution_count": 8,
   "id": "c1aa35b8",
   "metadata": {},
   "outputs": [],
   "source": [
    "person['hobbies'] = ['gaming', 'camping']"
   ]
  },
  {
   "cell_type": "code",
   "execution_count": 9,
   "id": "85298678",
   "metadata": {},
   "outputs": [
    {
     "data": {
      "text/plain": [
       "{'name': 'Andy', 'age': 25, 'hobbies': ['gaming', 'camping']}"
      ]
     },
     "execution_count": 9,
     "metadata": {},
     "output_type": "execute_result"
    }
   ],
   "source": [
    "person"
   ]
  },
  {
   "cell_type": "code",
   "execution_count": 10,
   "id": "7d0410f6",
   "metadata": {},
   "outputs": [
    {
     "data": {
      "text/plain": [
       "['gaming', 'camping']"
      ]
     },
     "execution_count": 10,
     "metadata": {},
     "output_type": "execute_result"
    }
   ],
   "source": [
    "person['hobbies']"
   ]
  },
  {
   "cell_type": "code",
   "execution_count": 11,
   "id": "6d1063c4",
   "metadata": {},
   "outputs": [],
   "source": [
    "person['hobbies'].append('coding')"
   ]
  },
  {
   "cell_type": "code",
   "execution_count": 12,
   "id": "5b8f7306",
   "metadata": {},
   "outputs": [
    {
     "data": {
      "text/plain": [
       "{'name': 'Andy', 'age': 25, 'hobbies': ['gaming', 'camping', 'coding']}"
      ]
     },
     "execution_count": 12,
     "metadata": {},
     "output_type": "execute_result"
    }
   ],
   "source": [
    "person"
   ]
  },
  {
   "cell_type": "code",
   "execution_count": 18,
   "id": "5efc1244",
   "metadata": {},
   "outputs": [
    {
     "name": "stdout",
     "output_type": "stream",
     "text": [
      "True\n",
      "True\n",
      "True\n"
     ]
    }
   ],
   "source": [
    "for key, value in person.items():\n",
    "    print(person[key] == value)\n",
    "    "
   ]
  },
  {
   "cell_type": "code",
   "execution_count": 17,
   "id": "aa2fbfd4",
   "metadata": {},
   "outputs": [
    {
     "data": {
      "text/plain": [
       "'Andy'"
      ]
     },
     "execution_count": 17,
     "metadata": {},
     "output_type": "execute_result"
    }
   ],
   "source": [
    "person['name']"
   ]
  },
  {
   "cell_type": "code",
   "execution_count": 19,
   "id": "2bb41c90",
   "metadata": {},
   "outputs": [],
   "source": [
    "person = ('Andy', 25, ['gaming', 'camping'])"
   ]
  },
  {
   "cell_type": "code",
   "execution_count": 20,
   "id": "988b7927",
   "metadata": {},
   "outputs": [
    {
     "data": {
      "text/plain": [
       "('Andy', 25, ['gaming', 'camping'])"
      ]
     },
     "execution_count": 20,
     "metadata": {},
     "output_type": "execute_result"
    }
   ],
   "source": [
    "person"
   ]
  },
  {
   "cell_type": "code",
   "execution_count": 21,
   "id": "077ab77b",
   "metadata": {},
   "outputs": [],
   "source": [
    "name, age, hobbies = person"
   ]
  },
  {
   "cell_type": "code",
   "execution_count": 22,
   "id": "30a9ad57",
   "metadata": {},
   "outputs": [
    {
     "data": {
      "text/plain": [
       "'Andy'"
      ]
     },
     "execution_count": 22,
     "metadata": {},
     "output_type": "execute_result"
    }
   ],
   "source": [
    "name"
   ]
  },
  {
   "cell_type": "code",
   "execution_count": 23,
   "id": "ff474579",
   "metadata": {},
   "outputs": [
    {
     "data": {
      "text/plain": [
       "25"
      ]
     },
     "execution_count": 23,
     "metadata": {},
     "output_type": "execute_result"
    }
   ],
   "source": [
    "age"
   ]
  },
  {
   "cell_type": "code",
   "execution_count": 24,
   "id": "c020bd9a",
   "metadata": {},
   "outputs": [
    {
     "data": {
      "text/plain": [
       "['gaming', 'camping']"
      ]
     },
     "execution_count": 24,
     "metadata": {},
     "output_type": "execute_result"
    }
   ],
   "source": [
    "hobbies"
   ]
  },
  {
   "cell_type": "code",
   "execution_count": 25,
   "id": "d4fb8da2",
   "metadata": {},
   "outputs": [],
   "source": [
    "hobbies.append('coding')"
   ]
  },
  {
   "cell_type": "code",
   "execution_count": 26,
   "id": "0c39bf97",
   "metadata": {},
   "outputs": [
    {
     "data": {
      "text/plain": [
       "('Andy', 25, ['gaming', 'camping', 'coding'])"
      ]
     },
     "execution_count": 26,
     "metadata": {},
     "output_type": "execute_result"
    }
   ],
   "source": [
    "person"
   ]
  },
  {
   "cell_type": "code",
   "execution_count": 27,
   "id": "724bf116",
   "metadata": {},
   "outputs": [],
   "source": [
    "my_new_list = [1,1,1,1,2,3,3,3,3]"
   ]
  },
  {
   "cell_type": "code",
   "execution_count": 28,
   "id": "eb583004",
   "metadata": {},
   "outputs": [],
   "source": [
    "my_smaller_list = set(my_new_list)"
   ]
  },
  {
   "cell_type": "code",
   "execution_count": 29,
   "id": "6206a99c",
   "metadata": {},
   "outputs": [
    {
     "data": {
      "text/plain": [
       "{1, 2, 3}"
      ]
     },
     "execution_count": 29,
     "metadata": {},
     "output_type": "execute_result"
    }
   ],
   "source": [
    "my_smaller_list"
   ]
  },
  {
   "cell_type": "code",
   "execution_count": 30,
   "id": "cd7c7f18",
   "metadata": {},
   "outputs": [],
   "source": [
    "my_set = {}"
   ]
  },
  {
   "cell_type": "code",
   "execution_count": 31,
   "id": "8f6a66f4",
   "metadata": {},
   "outputs": [
    {
     "data": {
      "text/plain": [
       "dict"
      ]
     },
     "execution_count": 31,
     "metadata": {},
     "output_type": "execute_result"
    }
   ],
   "source": [
    "type(my_set)"
   ]
  },
  {
   "cell_type": "code",
   "execution_count": 32,
   "id": "b2e328d1",
   "metadata": {},
   "outputs": [],
   "source": [
    "my_set = set()"
   ]
  },
  {
   "cell_type": "code",
   "execution_count": 33,
   "id": "2e2f794b",
   "metadata": {},
   "outputs": [
    {
     "data": {
      "text/plain": [
       "set"
      ]
     },
     "execution_count": 33,
     "metadata": {},
     "output_type": "execute_result"
    }
   ],
   "source": [
    "type(my_set)"
   ]
  },
  {
   "cell_type": "code",
   "execution_count": 34,
   "id": "2d4d7fa4",
   "metadata": {},
   "outputs": [],
   "source": [
    "my_set.add(42)"
   ]
  },
  {
   "cell_type": "code",
   "execution_count": 35,
   "id": "969528ee",
   "metadata": {},
   "outputs": [
    {
     "data": {
      "text/plain": [
       "{42}"
      ]
     },
     "execution_count": 35,
     "metadata": {},
     "output_type": "execute_result"
    }
   ],
   "source": [
    "my_set"
   ]
  },
  {
   "cell_type": "code",
   "execution_count": 36,
   "id": "8c9d53a9",
   "metadata": {},
   "outputs": [],
   "source": [
    "my_set.add(34)"
   ]
  },
  {
   "cell_type": "code",
   "execution_count": 37,
   "id": "2c6181ad",
   "metadata": {},
   "outputs": [
    {
     "data": {
      "text/plain": [
       "{34, 42}"
      ]
     },
     "execution_count": 37,
     "metadata": {},
     "output_type": "execute_result"
    }
   ],
   "source": [
    "my_set"
   ]
  },
  {
   "cell_type": "code",
   "execution_count": 38,
   "id": "1764e9f0",
   "metadata": {},
   "outputs": [],
   "source": [
    "my_set.add(42)"
   ]
  },
  {
   "cell_type": "code",
   "execution_count": 39,
   "id": "733f3b76",
   "metadata": {},
   "outputs": [
    {
     "data": {
      "text/plain": [
       "{34, 42}"
      ]
     },
     "execution_count": 39,
     "metadata": {},
     "output_type": "execute_result"
    }
   ],
   "source": [
    "my_set"
   ]
  },
  {
   "cell_type": "code",
   "execution_count": null,
   "id": "4b6705a6",
   "metadata": {},
   "outputs": [],
   "source": []
  }
 ],
 "metadata": {
  "kernelspec": {
   "display_name": "Python 3.8.8 64-bit ('base': conda)",
   "language": "python",
   "name": "python388jvsc74a57bd057d418549deb2b28c2bac4f6acf8fe5c78b0c3ba07880bf4f33452d12e17b367"
  },
  "language_info": {
   "codemirror_mode": {
    "name": "ipython",
    "version": 3
   },
   "file_extension": ".py",
   "mimetype": "text/x-python",
   "name": "python",
   "nbconvert_exporter": "python",
   "pygments_lexer": "ipython3",
   "version": "3.8.8"
  }
 },
 "nbformat": 4,
 "nbformat_minor": 5
}
