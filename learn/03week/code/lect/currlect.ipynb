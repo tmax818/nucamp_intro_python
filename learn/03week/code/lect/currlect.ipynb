{
 "cells": [
  {
   "cell_type": "markdown",
   "id": "7aefdddd",
   "metadata": {},
   "source": [
    "# Lists"
   ]
  },
  {
   "cell_type": "code",
   "execution_count": null,
   "id": "87d2a2fe",
   "metadata": {},
   "outputs": [],
   "source": [
    "first = \"charlie\"\n",
    "second = \"alpha\""
   ]
  },
  {
   "cell_type": "code",
   "execution_count": 32,
   "id": "4cb8e331",
   "metadata": {},
   "outputs": [],
   "source": [
    "my_list = [\"Charlie\", \"Alpha\", \"Delta\", \"Bravo\", \"Echo\", \"Foxtrot\", \"Hotel\", \"Indigo\"]"
   ]
  },
  {
   "cell_type": "markdown",
   "id": "c86bacb2",
   "metadata": {},
   "source": [
    "What is the index of \"Delta\"?"
   ]
  },
  {
   "cell_type": "markdown",
   "id": "b93ad40d",
   "metadata": {},
   "source": [
    "# slicing\n"
   ]
  },
  {
   "cell_type": "code",
   "execution_count": 37,
   "id": "86627661",
   "metadata": {},
   "outputs": [
    {
     "data": {
      "text/plain": [
       "['Indigo', 'Hotel', 'Foxtrot', 'Echo', 'Bravo', 'Delta', 'Alpha', 'Charlie']"
      ]
     },
     "execution_count": 37,
     "metadata": {},
     "output_type": "execute_result"
    }
   ],
   "source": [
    "my_list[::-1]"
   ]
  },
  {
   "cell_type": "markdown",
   "id": "59a331a8",
   "metadata": {},
   "source": [
    "# list methods"
   ]
  },
  {
   "cell_type": "code",
   "execution_count": 41,
   "id": "a79b9b68",
   "metadata": {},
   "outputs": [],
   "source": [
    "last = my_list.pop(4)"
   ]
  },
  {
   "cell_type": "code",
   "execution_count": 42,
   "id": "2c55430d",
   "metadata": {},
   "outputs": [
    {
     "name": "stdout",
     "output_type": "stream",
     "text": [
      "Echo\n"
     ]
    }
   ],
   "source": [
    "print(last)"
   ]
  },
  {
   "cell_type": "code",
   "execution_count": 43,
   "id": "605ead6c",
   "metadata": {},
   "outputs": [
    {
     "data": {
      "text/plain": [
       "'Delta'"
      ]
     },
     "execution_count": 43,
     "metadata": {},
     "output_type": "execute_result"
    }
   ],
   "source": [
    "my_list[2]"
   ]
  },
  {
   "cell_type": "code",
   "execution_count": 3,
   "id": "2b1a3159",
   "metadata": {},
   "outputs": [],
   "source": [
    "my_list[3] = \"Hotel\""
   ]
  },
  {
   "cell_type": "code",
   "execution_count": 4,
   "id": "69ff3182",
   "metadata": {},
   "outputs": [
    {
     "data": {
      "text/plain": [
       "['Charlie', 'Alpha', 'Delta', 'Hotel', 'Echo', 'Foxtrot']"
      ]
     },
     "execution_count": 4,
     "metadata": {},
     "output_type": "execute_result"
    }
   ],
   "source": [
    "my_list"
   ]
  },
  {
   "cell_type": "code",
   "execution_count": null,
   "id": "c28ccaa4",
   "metadata": {},
   "outputs": [],
   "source": []
  },
  {
   "cell_type": "code",
   "execution_count": 5,
   "id": "3c9b48f3",
   "metadata": {},
   "outputs": [],
   "source": [
    "my_list.append(\"Bravo\")"
   ]
  },
  {
   "cell_type": "code",
   "execution_count": 6,
   "id": "6c473569",
   "metadata": {},
   "outputs": [
    {
     "data": {
      "text/plain": [
       "['Charlie', 'Alpha', 'Delta', 'Hotel', 'Echo', 'Foxtrot', 'Bravo']"
      ]
     },
     "execution_count": 6,
     "metadata": {},
     "output_type": "execute_result"
    }
   ],
   "source": [
    "my_list"
   ]
  },
  {
   "cell_type": "code",
   "execution_count": 7,
   "id": "da7af51a",
   "metadata": {},
   "outputs": [],
   "source": [
    "my_list.sort()"
   ]
  },
  {
   "cell_type": "code",
   "execution_count": 8,
   "id": "e129c895",
   "metadata": {},
   "outputs": [
    {
     "data": {
      "text/plain": [
       "['Alpha', 'Bravo', 'Charlie', 'Delta', 'Echo', 'Foxtrot', 'Hotel']"
      ]
     },
     "execution_count": 8,
     "metadata": {},
     "output_type": "execute_result"
    }
   ],
   "source": [
    "my_list"
   ]
  },
  {
   "cell_type": "code",
   "execution_count": 9,
   "id": "5bd4d89c",
   "metadata": {},
   "outputs": [
    {
     "data": {
      "text/plain": [
       "7"
      ]
     },
     "execution_count": 9,
     "metadata": {},
     "output_type": "execute_result"
    }
   ],
   "source": [
    "len(my_list)"
   ]
  },
  {
   "cell_type": "code",
   "execution_count": 19,
   "id": "8bff06ee",
   "metadata": {},
   "outputs": [],
   "source": [
    "name = \"Tyler is cool\""
   ]
  },
  {
   "cell_type": "code",
   "execution_count": null,
   "id": "ffdbeb4f",
   "metadata": {},
   "outputs": [],
   "source": []
  },
  {
   "cell_type": "code",
   "execution_count": null,
   "id": "b601be5b",
   "metadata": {},
   "outputs": [],
   "source": []
  },
  {
   "cell_type": "code",
   "execution_count": 11,
   "id": "143ef18e",
   "metadata": {},
   "outputs": [
    {
     "data": {
      "text/plain": [
       "7"
      ]
     },
     "execution_count": 11,
     "metadata": {},
     "output_type": "execute_result"
    }
   ],
   "source": [
    "my_list.__len__()"
   ]
  },
  {
   "cell_type": "code",
   "execution_count": null,
   "id": "29101f7c",
   "metadata": {},
   "outputs": [],
   "source": [
    "last = my_list.pop()"
   ]
  },
  {
   "cell_type": "code",
   "execution_count": null,
   "id": "ba1219b1",
   "metadata": {},
   "outputs": [],
   "source": [
    "last"
   ]
  },
  {
   "cell_type": "code",
   "execution_count": null,
   "id": "bb745fcc",
   "metadata": {},
   "outputs": [],
   "source": [
    "index_2 = my_list.pop(2)"
   ]
  },
  {
   "cell_type": "code",
   "execution_count": null,
   "id": "9d604643",
   "metadata": {},
   "outputs": [],
   "source": [
    "print(index_2)"
   ]
  },
  {
   "cell_type": "code",
   "execution_count": null,
   "id": "2bdf9ca6",
   "metadata": {},
   "outputs": [],
   "source": [
    "my_list"
   ]
  },
  {
   "cell_type": "code",
   "execution_count": null,
   "id": "a5ec38cd",
   "metadata": {},
   "outputs": [],
   "source": [
    "rem = my_list.remove(\"Charlie\")"
   ]
  },
  {
   "cell_type": "code",
   "execution_count": null,
   "id": "5fd4939b",
   "metadata": {},
   "outputs": [],
   "source": [
    "rem"
   ]
  },
  {
   "cell_type": "code",
   "execution_count": null,
   "id": "8730fb4e",
   "metadata": {},
   "outputs": [],
   "source": [
    "my_list.append(\"Bravo\")"
   ]
  },
  {
   "cell_type": "code",
   "execution_count": null,
   "id": "7e2d9faf",
   "metadata": {},
   "outputs": [],
   "source": [
    "my_list"
   ]
  },
  {
   "cell_type": "markdown",
   "id": "ee67054e",
   "metadata": {},
   "source": [
    "## Slicing"
   ]
  },
  {
   "cell_type": "code",
   "execution_count": 86,
   "id": "2910f9cc",
   "metadata": {},
   "outputs": [],
   "source": [
    "my_nums = [0,11,2,3,42,53,6,7,8,9]"
   ]
  },
  {
   "cell_type": "code",
   "execution_count": 87,
   "id": "573ef0bc",
   "metadata": {},
   "outputs": [
    {
     "data": {
      "text/plain": [
       "[0, 11, 2, 3, 42, 53, 6, 7, 8, 9]"
      ]
     },
     "execution_count": 87,
     "metadata": {},
     "output_type": "execute_result"
    }
   ],
   "source": [
    "my_nums"
   ]
  },
  {
   "cell_type": "code",
   "execution_count": 89,
   "id": "9c018de6",
   "metadata": {},
   "outputs": [],
   "source": [
    "for elmo in range(len(my_nums)):\n",
    "    my_nums[elmo] = my_nums[elmo] ** 2"
   ]
  },
  {
   "cell_type": "code",
   "execution_count": 90,
   "id": "e280fb9c",
   "metadata": {},
   "outputs": [
    {
     "data": {
      "text/plain": [
       "[0, 121, 4, 9, 1764, 2809, 36, 49, 64, 81]"
      ]
     },
     "execution_count": 90,
     "metadata": {},
     "output_type": "execute_result"
    }
   ],
   "source": [
    "my_nums"
   ]
  },
  {
   "cell_type": "code",
   "execution_count": null,
   "id": "2d022327",
   "metadata": {},
   "outputs": [],
   "source": []
  },
  {
   "cell_type": "code",
   "execution_count": 69,
   "id": "45fa6d6f",
   "metadata": {},
   "outputs": [
    {
     "data": {
      "text/plain": [
       "[9, 8, 7, 6, 5, 4, 3, 2, 1, 0]"
      ]
     },
     "execution_count": 69,
     "metadata": {},
     "output_type": "execute_result"
    }
   ],
   "source": [
    "my_nums[::-1]"
   ]
  },
  {
   "cell_type": "code",
   "execution_count": 70,
   "id": "8f07d3b9",
   "metadata": {},
   "outputs": [
    {
     "data": {
      "text/plain": [
       "True"
      ]
     },
     "execution_count": 70,
     "metadata": {},
     "output_type": "execute_result"
    }
   ],
   "source": [
    "9 in my_nums"
   ]
  },
  {
   "cell_type": "code",
   "execution_count": 71,
   "id": "9d4e0c54",
   "metadata": {},
   "outputs": [
    {
     "data": {
      "text/plain": [
       "[0, 1, 2, 3, 4, 5, 6, 7, 8, 9]"
      ]
     },
     "execution_count": 71,
     "metadata": {},
     "output_type": "execute_result"
    }
   ],
   "source": [
    "my_nums"
   ]
  },
  {
   "cell_type": "code",
   "execution_count": null,
   "id": "ce6ec379",
   "metadata": {},
   "outputs": [],
   "source": []
  },
  {
   "cell_type": "code",
   "execution_count": 72,
   "id": "57a02864",
   "metadata": {},
   "outputs": [
    {
     "data": {
      "text/plain": [
       "False"
      ]
     },
     "execution_count": 72,
     "metadata": {},
     "output_type": "execute_result"
    }
   ],
   "source": [
    "15 in my_nums"
   ]
  },
  {
   "cell_type": "code",
   "execution_count": 91,
   "id": "c1f7ea6c",
   "metadata": {},
   "outputs": [
    {
     "name": "stdout",
     "output_type": "stream",
     "text": [
      "[0, 121, 4, 9, 1764, 2809, 36, 49, 64, 81]\n",
      "[0, 14641, 4, 9, 1764, 2809, 36, 49, 64, 81]\n",
      "[0, 14641, 16, 9, 1764, 2809, 36, 49, 64, 81]\n",
      "[0, 14641, 16, 81, 1764, 2809, 36, 49, 64, 81]\n",
      "[0, 14641, 16, 81, 3111696, 2809, 36, 49, 64, 81]\n",
      "[0, 14641, 16, 81, 3111696, 7890481, 36, 49, 64, 81]\n",
      "[0, 14641, 16, 81, 3111696, 7890481, 1296, 49, 64, 81]\n",
      "[0, 14641, 16, 81, 3111696, 7890481, 1296, 2401, 64, 81]\n",
      "[0, 14641, 16, 81, 3111696, 7890481, 1296, 2401, 4096, 81]\n",
      "[0, 14641, 16, 81, 3111696, 7890481, 1296, 2401, 4096, 6561]\n"
     ]
    }
   ],
   "source": [
    "for elmo in range(len(my_nums)):\n",
    "    my_nums[elmo] = my_nums[elmo] ** 2\n",
    "    print(my_nums)"
   ]
  },
  {
   "cell_type": "code",
   "execution_count": 92,
   "id": "2c5d2b50",
   "metadata": {},
   "outputs": [
    {
     "name": "stdout",
     "output_type": "stream",
     "text": [
      "[0, 14641, 16, 81, 3111696, 7890481, 1296, 2401, 4096, 6561] [0]\n",
      "[0, 14641, 16, 81, 3111696, 7890481, 1296, 2401, 4096, 6561] [0, 214358881]\n",
      "[0, 14641, 16, 81, 3111696, 7890481, 1296, 2401, 4096, 6561] [0, 214358881, 256]\n",
      "[0, 14641, 16, 81, 3111696, 7890481, 1296, 2401, 4096, 6561] [0, 214358881, 256, 6561]\n",
      "[0, 14641, 16, 81, 3111696, 7890481, 1296, 2401, 4096, 6561] [0, 214358881, 256, 6561, 9682651996416]\n",
      "[0, 14641, 16, 81, 3111696, 7890481, 1296, 2401, 4096, 6561] [0, 214358881, 256, 6561, 9682651996416, 62259690411361]\n",
      "[0, 14641, 16, 81, 3111696, 7890481, 1296, 2401, 4096, 6561] [0, 214358881, 256, 6561, 9682651996416, 62259690411361, 1679616]\n",
      "[0, 14641, 16, 81, 3111696, 7890481, 1296, 2401, 4096, 6561] [0, 214358881, 256, 6561, 9682651996416, 62259690411361, 1679616, 5764801]\n",
      "[0, 14641, 16, 81, 3111696, 7890481, 1296, 2401, 4096, 6561] [0, 214358881, 256, 6561, 9682651996416, 62259690411361, 1679616, 5764801, 16777216]\n",
      "[0, 14641, 16, 81, 3111696, 7890481, 1296, 2401, 4096, 6561] [0, 214358881, 256, 6561, 9682651996416, 62259690411361, 1679616, 5764801, 16777216, 43046721]\n"
     ]
    }
   ],
   "source": [
    "temp_list = []\n",
    "for num in my_nums:\n",
    "    temp_list.append(num **2)\n",
    "    print(my_nums, temp_list)"
   ]
  },
  {
   "cell_type": "code",
   "execution_count": 74,
   "id": "98e3a78a",
   "metadata": {},
   "outputs": [
    {
     "data": {
      "text/plain": [
       "[0, 1, 2, 3, 4, 5, 6, 7, 8, 9]"
      ]
     },
     "execution_count": 74,
     "metadata": {},
     "output_type": "execute_result"
    }
   ],
   "source": [
    "my_nums"
   ]
  },
  {
   "cell_type": "code",
   "execution_count": 75,
   "id": "7df18682",
   "metadata": {},
   "outputs": [
    {
     "data": {
      "text/plain": [
       "[0, 1, 4, 9, 16, 25, 36, 49, 64, 81]"
      ]
     },
     "execution_count": 75,
     "metadata": {},
     "output_type": "execute_result"
    }
   ],
   "source": [
    "temp_list"
   ]
  },
  {
   "cell_type": "code",
   "execution_count": null,
   "id": "b7ff9397",
   "metadata": {},
   "outputs": [],
   "source": [
    "my_num"
   ]
  },
  {
   "cell_type": "code",
   "execution_count": 76,
   "id": "60006294",
   "metadata": {},
   "outputs": [],
   "source": [
    "num_list_sqr = [x**2 for x in my_nums]"
   ]
  },
  {
   "cell_type": "code",
   "execution_count": 77,
   "id": "2f7a87da",
   "metadata": {},
   "outputs": [
    {
     "data": {
      "text/plain": [
       "[0, 1, 4, 9, 16, 25, 36, 49, 64, 81]"
      ]
     },
     "execution_count": 77,
     "metadata": {},
     "output_type": "execute_result"
    }
   ],
   "source": [
    "num_list_sqr"
   ]
  },
  {
   "cell_type": "code",
   "execution_count": 78,
   "id": "c883acfe",
   "metadata": {},
   "outputs": [],
   "source": [
    "my_nums = temp_list"
   ]
  },
  {
   "cell_type": "code",
   "execution_count": 81,
   "id": "64745a3f",
   "metadata": {},
   "outputs": [
    {
     "data": {
      "text/plain": [
       "[0, 1, 4, 9, 16, 25, 36, 49, 64, 81]"
      ]
     },
     "execution_count": 81,
     "metadata": {},
     "output_type": "execute_result"
    }
   ],
   "source": [
    "my_nums"
   ]
  },
  {
   "cell_type": "markdown",
   "id": "8bf94174",
   "metadata": {},
   "source": [
    "# Strings"
   ]
  },
  {
   "cell_type": "code",
   "execution_count": 93,
   "id": "daa8a7ee",
   "metadata": {},
   "outputs": [],
   "source": [
    "my_string = \"average air speed velocity of a laden swallow.\""
   ]
  },
  {
   "cell_type": "code",
   "execution_count": 94,
   "id": "975c922a",
   "metadata": {},
   "outputs": [
    {
     "name": "stdout",
     "output_type": "stream",
     "text": [
      "Help on class str in module builtins:\n",
      "\n",
      "class str(object)\n",
      " |  str(object='') -> str\n",
      " |  str(bytes_or_buffer[, encoding[, errors]]) -> str\n",
      " |  \n",
      " |  Create a new string object from the given object. If encoding or\n",
      " |  errors is specified, then the object must expose a data buffer\n",
      " |  that will be decoded using the given encoding and error handler.\n",
      " |  Otherwise, returns the result of object.__str__() (if defined)\n",
      " |  or repr(object).\n",
      " |  encoding defaults to sys.getdefaultencoding().\n",
      " |  errors defaults to 'strict'.\n",
      " |  \n",
      " |  Methods defined here:\n",
      " |  \n",
      " |  __add__(self, value, /)\n",
      " |      Return self+value.\n",
      " |  \n",
      " |  __contains__(self, key, /)\n",
      " |      Return key in self.\n",
      " |  \n",
      " |  __eq__(self, value, /)\n",
      " |      Return self==value.\n",
      " |  \n",
      " |  __format__(self, format_spec, /)\n",
      " |      Return a formatted version of the string as described by format_spec.\n",
      " |  \n",
      " |  __ge__(self, value, /)\n",
      " |      Return self>=value.\n",
      " |  \n",
      " |  __getattribute__(self, name, /)\n",
      " |      Return getattr(self, name).\n",
      " |  \n",
      " |  __getitem__(self, key, /)\n",
      " |      Return self[key].\n",
      " |  \n",
      " |  __getnewargs__(...)\n",
      " |  \n",
      " |  __gt__(self, value, /)\n",
      " |      Return self>value.\n",
      " |  \n",
      " |  __hash__(self, /)\n",
      " |      Return hash(self).\n",
      " |  \n",
      " |  __iter__(self, /)\n",
      " |      Implement iter(self).\n",
      " |  \n",
      " |  __le__(self, value, /)\n",
      " |      Return self<=value.\n",
      " |  \n",
      " |  __len__(self, /)\n",
      " |      Return len(self).\n",
      " |  \n",
      " |  __lt__(self, value, /)\n",
      " |      Return self<value.\n",
      " |  \n",
      " |  __mod__(self, value, /)\n",
      " |      Return self%value.\n",
      " |  \n",
      " |  __mul__(self, value, /)\n",
      " |      Return self*value.\n",
      " |  \n",
      " |  __ne__(self, value, /)\n",
      " |      Return self!=value.\n",
      " |  \n",
      " |  __repr__(self, /)\n",
      " |      Return repr(self).\n",
      " |  \n",
      " |  __rmod__(self, value, /)\n",
      " |      Return value%self.\n",
      " |  \n",
      " |  __rmul__(self, value, /)\n",
      " |      Return value*self.\n",
      " |  \n",
      " |  __sizeof__(self, /)\n",
      " |      Return the size of the string in memory, in bytes.\n",
      " |  \n",
      " |  __str__(self, /)\n",
      " |      Return str(self).\n",
      " |  \n",
      " |  capitalize(self, /)\n",
      " |      Return a capitalized version of the string.\n",
      " |      \n",
      " |      More specifically, make the first character have upper case and the rest lower\n",
      " |      case.\n",
      " |  \n",
      " |  casefold(self, /)\n",
      " |      Return a version of the string suitable for caseless comparisons.\n",
      " |  \n",
      " |  center(self, width, fillchar=' ', /)\n",
      " |      Return a centered string of length width.\n",
      " |      \n",
      " |      Padding is done using the specified fill character (default is a space).\n",
      " |  \n",
      " |  count(...)\n",
      " |      S.count(sub[, start[, end]]) -> int\n",
      " |      \n",
      " |      Return the number of non-overlapping occurrences of substring sub in\n",
      " |      string S[start:end].  Optional arguments start and end are\n",
      " |      interpreted as in slice notation.\n",
      " |  \n",
      " |  encode(self, /, encoding='utf-8', errors='strict')\n",
      " |      Encode the string using the codec registered for encoding.\n",
      " |      \n",
      " |      encoding\n",
      " |        The encoding in which to encode the string.\n",
      " |      errors\n",
      " |        The error handling scheme to use for encoding errors.\n",
      " |        The default is 'strict' meaning that encoding errors raise a\n",
      " |        UnicodeEncodeError.  Other possible values are 'ignore', 'replace' and\n",
      " |        'xmlcharrefreplace' as well as any other name registered with\n",
      " |        codecs.register_error that can handle UnicodeEncodeErrors.\n",
      " |  \n",
      " |  endswith(...)\n",
      " |      S.endswith(suffix[, start[, end]]) -> bool\n",
      " |      \n",
      " |      Return True if S ends with the specified suffix, False otherwise.\n",
      " |      With optional start, test S beginning at that position.\n",
      " |      With optional end, stop comparing S at that position.\n",
      " |      suffix can also be a tuple of strings to try.\n",
      " |  \n",
      " |  expandtabs(self, /, tabsize=8)\n",
      " |      Return a copy where all tab characters are expanded using spaces.\n",
      " |      \n",
      " |      If tabsize is not given, a tab size of 8 characters is assumed.\n",
      " |  \n",
      " |  find(...)\n",
      " |      S.find(sub[, start[, end]]) -> int\n",
      " |      \n",
      " |      Return the lowest index in S where substring sub is found,\n",
      " |      such that sub is contained within S[start:end].  Optional\n",
      " |      arguments start and end are interpreted as in slice notation.\n",
      " |      \n",
      " |      Return -1 on failure.\n",
      " |  \n",
      " |  format(...)\n",
      " |      S.format(*args, **kwargs) -> str\n",
      " |      \n",
      " |      Return a formatted version of S, using substitutions from args and kwargs.\n",
      " |      The substitutions are identified by braces ('{' and '}').\n",
      " |  \n",
      " |  format_map(...)\n",
      " |      S.format_map(mapping) -> str\n",
      " |      \n",
      " |      Return a formatted version of S, using substitutions from mapping.\n",
      " |      The substitutions are identified by braces ('{' and '}').\n",
      " |  \n",
      " |  index(...)\n",
      " |      S.index(sub[, start[, end]]) -> int\n",
      " |      \n",
      " |      Return the lowest index in S where substring sub is found,\n",
      " |      such that sub is contained within S[start:end].  Optional\n",
      " |      arguments start and end are interpreted as in slice notation.\n",
      " |      \n",
      " |      Raises ValueError when the substring is not found.\n",
      " |  \n",
      " |  isalnum(self, /)\n",
      " |      Return True if the string is an alpha-numeric string, False otherwise.\n",
      " |      \n",
      " |      A string is alpha-numeric if all characters in the string are alpha-numeric and\n",
      " |      there is at least one character in the string.\n",
      " |  \n",
      " |  isalpha(self, /)\n",
      " |      Return True if the string is an alphabetic string, False otherwise.\n",
      " |      \n",
      " |      A string is alphabetic if all characters in the string are alphabetic and there\n",
      " |      is at least one character in the string.\n",
      " |  \n",
      " |  isascii(self, /)\n",
      " |      Return True if all characters in the string are ASCII, False otherwise.\n",
      " |      \n",
      " |      ASCII characters have code points in the range U+0000-U+007F.\n",
      " |      Empty string is ASCII too.\n",
      " |  \n",
      " |  isdecimal(self, /)\n",
      " |      Return True if the string is a decimal string, False otherwise.\n",
      " |      \n",
      " |      A string is a decimal string if all characters in the string are decimal and\n",
      " |      there is at least one character in the string.\n",
      " |  \n",
      " |  isdigit(self, /)\n",
      " |      Return True if the string is a digit string, False otherwise.\n",
      " |      \n",
      " |      A string is a digit string if all characters in the string are digits and there\n",
      " |      is at least one character in the string.\n",
      " |  \n",
      " |  isidentifier(self, /)\n",
      " |      Return True if the string is a valid Python identifier, False otherwise.\n",
      " |      \n",
      " |      Call keyword.iskeyword(s) to test whether string s is a reserved identifier,\n",
      " |      such as \"def\" or \"class\".\n",
      " |  \n",
      " |  islower(self, /)\n",
      " |      Return True if the string is a lowercase string, False otherwise.\n",
      " |      \n",
      " |      A string is lowercase if all cased characters in the string are lowercase and\n",
      " |      there is at least one cased character in the string.\n",
      " |  \n",
      " |  isnumeric(self, /)\n",
      " |      Return True if the string is a numeric string, False otherwise.\n",
      " |      \n",
      " |      A string is numeric if all characters in the string are numeric and there is at\n",
      " |      least one character in the string.\n",
      " |  \n",
      " |  isprintable(self, /)\n",
      " |      Return True if the string is printable, False otherwise.\n",
      " |      \n",
      " |      A string is printable if all of its characters are considered printable in\n",
      " |      repr() or if it is empty.\n",
      " |  \n",
      " |  isspace(self, /)\n",
      " |      Return True if the string is a whitespace string, False otherwise.\n",
      " |      \n",
      " |      A string is whitespace if all characters in the string are whitespace and there\n",
      " |      is at least one character in the string.\n",
      " |  \n",
      " |  istitle(self, /)\n",
      " |      Return True if the string is a title-cased string, False otherwise.\n",
      " |      \n",
      " |      In a title-cased string, upper- and title-case characters may only\n",
      " |      follow uncased characters and lowercase characters only cased ones.\n",
      " |  \n",
      " |  isupper(self, /)\n",
      " |      Return True if the string is an uppercase string, False otherwise.\n",
      " |      \n",
      " |      A string is uppercase if all cased characters in the string are uppercase and\n",
      " |      there is at least one cased character in the string.\n",
      " |  \n",
      " |  join(self, iterable, /)\n",
      " |      Concatenate any number of strings.\n",
      " |      \n",
      " |      The string whose method is called is inserted in between each given string.\n",
      " |      The result is returned as a new string.\n",
      " |      \n",
      " |      Example: '.'.join(['ab', 'pq', 'rs']) -> 'ab.pq.rs'\n",
      " |  \n",
      " |  ljust(self, width, fillchar=' ', /)\n",
      " |      Return a left-justified string of length width.\n",
      " |      \n",
      " |      Padding is done using the specified fill character (default is a space).\n",
      " |  \n",
      " |  lower(self, /)\n",
      " |      Return a copy of the string converted to lowercase.\n",
      " |  \n",
      " |  lstrip(self, chars=None, /)\n",
      " |      Return a copy of the string with leading whitespace removed.\n",
      " |      \n",
      " |      If chars is given and not None, remove characters in chars instead.\n",
      " |  \n",
      " |  partition(self, sep, /)\n",
      " |      Partition the string into three parts using the given separator.\n",
      " |      \n",
      " |      This will search for the separator in the string.  If the separator is found,\n",
      " |      returns a 3-tuple containing the part before the separator, the separator\n",
      " |      itself, and the part after it.\n",
      " |      \n",
      " |      If the separator is not found, returns a 3-tuple containing the original string\n",
      " |      and two empty strings.\n",
      " |  \n",
      " |  replace(self, old, new, count=-1, /)\n",
      " |      Return a copy with all occurrences of substring old replaced by new.\n",
      " |      \n",
      " |        count\n",
      " |          Maximum number of occurrences to replace.\n",
      " |          -1 (the default value) means replace all occurrences.\n",
      " |      \n",
      " |      If the optional argument count is given, only the first count occurrences are\n",
      " |      replaced.\n",
      " |  \n",
      " |  rfind(...)\n",
      " |      S.rfind(sub[, start[, end]]) -> int\n",
      " |      \n",
      " |      Return the highest index in S where substring sub is found,\n",
      " |      such that sub is contained within S[start:end].  Optional\n",
      " |      arguments start and end are interpreted as in slice notation.\n",
      " |      \n",
      " |      Return -1 on failure.\n",
      " |  \n",
      " |  rindex(...)\n",
      " |      S.rindex(sub[, start[, end]]) -> int\n",
      " |      \n",
      " |      Return the highest index in S where substring sub is found,\n",
      " |      such that sub is contained within S[start:end].  Optional\n",
      " |      arguments start and end are interpreted as in slice notation.\n",
      " |      \n",
      " |      Raises ValueError when the substring is not found.\n",
      " |  \n",
      " |  rjust(self, width, fillchar=' ', /)\n",
      " |      Return a right-justified string of length width.\n",
      " |      \n",
      " |      Padding is done using the specified fill character (default is a space).\n",
      " |  \n",
      " |  rpartition(self, sep, /)\n",
      " |      Partition the string into three parts using the given separator.\n",
      " |      \n",
      " |      This will search for the separator in the string, starting at the end. If\n",
      " |      the separator is found, returns a 3-tuple containing the part before the\n",
      " |      separator, the separator itself, and the part after it.\n",
      " |      \n",
      " |      If the separator is not found, returns a 3-tuple containing two empty strings\n",
      " |      and the original string.\n",
      " |  \n",
      " |  rsplit(self, /, sep=None, maxsplit=-1)\n",
      " |      Return a list of the words in the string, using sep as the delimiter string.\n",
      " |      \n",
      " |        sep\n",
      " |          The delimiter according which to split the string.\n",
      " |          None (the default value) means split according to any whitespace,\n",
      " |          and discard empty strings from the result.\n",
      " |        maxsplit\n",
      " |          Maximum number of splits to do.\n",
      " |          -1 (the default value) means no limit.\n",
      " |      \n",
      " |      Splits are done starting at the end of the string and working to the front.\n",
      " |  \n",
      " |  rstrip(self, chars=None, /)\n",
      " |      Return a copy of the string with trailing whitespace removed.\n",
      " |      \n",
      " |      If chars is given and not None, remove characters in chars instead.\n",
      " |  \n",
      " |  split(self, /, sep=None, maxsplit=-1)\n",
      " |      Return a list of the words in the string, using sep as the delimiter string.\n",
      " |      \n",
      " |      sep\n",
      " |        The delimiter according which to split the string.\n",
      " |        None (the default value) means split according to any whitespace,\n",
      " |        and discard empty strings from the result.\n",
      " |      maxsplit\n",
      " |        Maximum number of splits to do.\n",
      " |        -1 (the default value) means no limit.\n",
      " |  \n",
      " |  splitlines(self, /, keepends=False)\n",
      " |      Return a list of the lines in the string, breaking at line boundaries.\n",
      " |      \n",
      " |      Line breaks are not included in the resulting list unless keepends is given and\n",
      " |      true.\n",
      " |  \n",
      " |  startswith(...)\n",
      " |      S.startswith(prefix[, start[, end]]) -> bool\n",
      " |      \n",
      " |      Return True if S starts with the specified prefix, False otherwise.\n",
      " |      With optional start, test S beginning at that position.\n",
      " |      With optional end, stop comparing S at that position.\n",
      " |      prefix can also be a tuple of strings to try.\n",
      " |  \n",
      " |  strip(self, chars=None, /)\n",
      " |      Return a copy of the string with leading and trailing whitespace removed.\n",
      " |      \n",
      " |      If chars is given and not None, remove characters in chars instead.\n",
      " |  \n",
      " |  swapcase(self, /)\n",
      " |      Convert uppercase characters to lowercase and lowercase characters to uppercase.\n",
      " |  \n",
      " |  title(self, /)\n",
      " |      Return a version of the string where each word is titlecased.\n",
      " |      \n",
      " |      More specifically, words start with uppercased characters and all remaining\n",
      " |      cased characters have lower case.\n",
      " |  \n",
      " |  translate(self, table, /)\n",
      " |      Replace each character in the string using the given translation table.\n",
      " |      \n",
      " |        table\n",
      " |          Translation table, which must be a mapping of Unicode ordinals to\n",
      " |          Unicode ordinals, strings, or None.\n",
      " |      \n",
      " |      The table must implement lookup/indexing via __getitem__, for instance a\n",
      " |      dictionary or list.  If this operation raises LookupError, the character is\n",
      " |      left untouched.  Characters mapped to None are deleted.\n",
      " |  \n",
      " |  upper(self, /)\n",
      " |      Return a copy of the string converted to uppercase.\n",
      " |  \n",
      " |  zfill(self, width, /)\n",
      " |      Pad a numeric string with zeros on the left, to fill a field of the given width.\n",
      " |      \n",
      " |      The string is never truncated.\n",
      " |  \n",
      " |  ----------------------------------------------------------------------\n",
      " |  Static methods defined here:\n",
      " |  \n",
      " |  __new__(*args, **kwargs) from builtins.type\n",
      " |      Create and return a new object.  See help(type) for accurate signature.\n",
      " |  \n",
      " |  maketrans(...)\n",
      " |      Return a translation table usable for str.translate().\n",
      " |      \n",
      " |      If there is only one argument, it must be a dictionary mapping Unicode\n",
      " |      ordinals (integers) or characters to Unicode ordinals, strings or None.\n",
      " |      Character keys will be then converted to ordinals.\n",
      " |      If there are two arguments, they must be strings of equal length, and\n",
      " |      in the resulting dictionary, each character in x will be mapped to the\n",
      " |      character at the same position in y. If there is a third argument, it\n",
      " |      must be a string, whose characters will be mapped to None in the result.\n",
      "\n"
     ]
    }
   ],
   "source": [
    "help(str)"
   ]
  },
  {
   "cell_type": "code",
   "execution_count": 95,
   "id": "d7af3636",
   "metadata": {},
   "outputs": [
    {
     "data": {
      "text/plain": [
       "'Average air speed velocity of a laden swallow.'"
      ]
     },
     "execution_count": 95,
     "metadata": {},
     "output_type": "execute_result"
    }
   ],
   "source": [
    "my_string.capitalize()"
   ]
  },
  {
   "cell_type": "code",
   "execution_count": 96,
   "id": "83ec75bb",
   "metadata": {},
   "outputs": [
    {
     "data": {
      "text/plain": [
       "'swallow.'"
      ]
     },
     "execution_count": 96,
     "metadata": {},
     "output_type": "execute_result"
    }
   ],
   "source": [
    "my_string[-8:]"
   ]
  },
  {
   "cell_type": "code",
   "execution_count": 97,
   "id": "9f7c301e",
   "metadata": {},
   "outputs": [
    {
     "data": {
      "text/plain": [
       "38"
      ]
     },
     "execution_count": 97,
     "metadata": {},
     "output_type": "execute_result"
    }
   ],
   "source": [
    "my_string.index('swallow')"
   ]
  },
  {
   "cell_type": "code",
   "execution_count": 98,
   "id": "c3d2cfa2",
   "metadata": {},
   "outputs": [
    {
     "name": "stdout",
     "output_type": "stream",
     "text": [
      "a\n",
      "v\n",
      "e\n",
      "r\n",
      "a\n",
      "g\n",
      "e\n",
      " \n",
      "a\n",
      "i\n",
      "r\n",
      " \n",
      "s\n",
      "p\n",
      "e\n",
      "e\n",
      "d\n",
      " \n",
      "v\n",
      "e\n",
      "l\n",
      "o\n",
      "c\n",
      "i\n",
      "t\n",
      "y\n",
      " \n",
      "o\n",
      "f\n",
      " \n",
      "a\n",
      " \n",
      "l\n",
      "a\n",
      "d\n",
      "e\n",
      "n\n",
      " \n",
      "s\n",
      "w\n",
      "a\n",
      "l\n",
      "l\n",
      "o\n",
      "w\n",
      ".\n"
     ]
    }
   ],
   "source": [
    "for char in my_string:\n",
    "    print(char)"
   ]
  },
  {
   "cell_type": "markdown",
   "id": "265f5a85",
   "metadata": {},
   "source": [
    "# Tuples"
   ]
  },
  {
   "cell_type": "code",
   "execution_count": 101,
   "id": "cced35ac",
   "metadata": {},
   "outputs": [],
   "source": [
    "tuple1 = (1, 10, 100, 1000)"
   ]
  },
  {
   "cell_type": "code",
   "execution_count": 102,
   "id": "31acdbf7",
   "metadata": {},
   "outputs": [],
   "source": [
    "tuple2 = (2,4,6)"
   ]
  },
  {
   "cell_type": "code",
   "execution_count": 103,
   "id": "b286abb6",
   "metadata": {},
   "outputs": [],
   "source": [
    "tuple1 = tuple1 + tuple2\n"
   ]
  },
  {
   "cell_type": "code",
   "execution_count": 137,
   "id": "1002893d",
   "metadata": {},
   "outputs": [],
   "source": [
    "jena = (\"Jena\", [], 18, \"123-34-6785\")\n",
    "jess = (\"Jess\", [], 19, \"123-98-9090\")"
   ]
  },
  {
   "cell_type": "code",
   "execution_count": 138,
   "id": "0734ca47",
   "metadata": {},
   "outputs": [],
   "source": [
    "students = [jena, jess]"
   ]
  },
  {
   "cell_type": "code",
   "execution_count": 139,
   "id": "f9cc51b2",
   "metadata": {},
   "outputs": [
    {
     "data": {
      "text/plain": [
       "[('Jena', [], 18, '123-34-6785'), ('Jess', [], 19, '123-98-9090')]"
      ]
     },
     "execution_count": 139,
     "metadata": {},
     "output_type": "execute_result"
    }
   ],
   "source": [
    "students"
   ]
  },
  {
   "cell_type": "code",
   "execution_count": 141,
   "id": "3eb7e27a",
   "metadata": {},
   "outputs": [],
   "source": [
    "for student in students:\n",
    "    name, hobbies, age, snn = student"
   ]
  },
  {
   "cell_type": "code",
   "execution_count": 142,
   "id": "2ccf2eba",
   "metadata": {},
   "outputs": [
    {
     "data": {
      "text/plain": [
       "'Jess'"
      ]
     },
     "execution_count": 142,
     "metadata": {},
     "output_type": "execute_result"
    }
   ],
   "source": [
    "name\n",
    "    "
   ]
  },
  {
   "cell_type": "code",
   "execution_count": 131,
   "id": "c8154378",
   "metadata": {},
   "outputs": [
    {
     "data": {
      "text/plain": [
       "('Jena', ['coding'], 18, '123-34-6785')"
      ]
     },
     "execution_count": 131,
     "metadata": {},
     "output_type": "execute_result"
    }
   ],
   "source": [
    "jena"
   ]
  },
  {
   "cell_type": "code",
   "execution_count": 133,
   "id": "2c389fe8",
   "metadata": {},
   "outputs": [
    {
     "ename": "TypeError",
     "evalue": "'tuple' object does not support item assignment",
     "output_type": "error",
     "traceback": [
      "\u001b[0;31m---------------------------------------------------\u001b[0m",
      "\u001b[0;31mTypeError\u001b[0m         Traceback (most recent call last)",
      "\u001b[0;32m<ipython-input-133-1f4be131b74c>\u001b[0m in \u001b[0;36m<module>\u001b[0;34m\u001b[0m\n\u001b[0;32m----> 1\u001b[0;31m \u001b[0mjena\u001b[0m\u001b[0;34m[\u001b[0m\u001b[0;36m4\u001b[0m\u001b[0;34m]\u001b[0m \u001b[0;34m=\u001b[0m \u001b[0;32mTrue\u001b[0m\u001b[0;34m\u001b[0m\u001b[0;34m\u001b[0m\u001b[0m\n\u001b[0m",
      "\u001b[0;31mTypeError\u001b[0m: 'tuple' object does not support item assignment"
     ]
    }
   ],
   "source": [
    "jena[4] = True"
   ]
  },
  {
   "cell_type": "code",
   "execution_count": 148,
   "id": "bf7c9568",
   "metadata": {},
   "outputs": [],
   "source": [
    "def add_nums(*args):\n",
    "    sum = 0\n",
    "    for num in args:\n",
    "        sum += num\n",
    "        \n",
    "    print(sum)"
   ]
  },
  {
   "cell_type": "code",
   "execution_count": 150,
   "id": "2ce7cd05",
   "metadata": {},
   "outputs": [
    {
     "name": "stdout",
     "output_type": "stream",
     "text": [
      "70\n"
     ]
    }
   ],
   "source": [
    "add_nums(1,2,3,4,5,6,7,42)"
   ]
  },
  {
   "cell_type": "code",
   "execution_count": null,
   "id": "65d4b30e",
   "metadata": {},
   "outputs": [],
   "source": []
  },
  {
   "cell_type": "code",
   "execution_count": null,
   "id": "ba483953",
   "metadata": {},
   "outputs": [],
   "source": []
  },
  {
   "cell_type": "code",
   "execution_count": null,
   "id": "edfffc2e",
   "metadata": {},
   "outputs": [],
   "source": []
  },
  {
   "cell_type": "code",
   "execution_count": null,
   "id": "13facac3",
   "metadata": {},
   "outputs": [],
   "source": []
  },
  {
   "cell_type": "code",
   "execution_count": null,
   "id": "1e8a2eda",
   "metadata": {},
   "outputs": [],
   "source": [
    "def add(*args):\n",
    "    print(args)"
   ]
  },
  {
   "cell_type": "code",
   "execution_count": null,
   "id": "137aed12",
   "metadata": {},
   "outputs": [],
   "source": [
    "add(1,2,3,4,5,6,7,8,9,10,11,22,233)"
   ]
  },
  {
   "cell_type": "markdown",
   "id": "847b1f43",
   "metadata": {},
   "source": [
    "# Dictionaries"
   ]
  },
  {
   "cell_type": "code",
   "execution_count": null,
   "id": "98680502",
   "metadata": {},
   "outputs": [],
   "source": [
    "ingredients = {\"butter\": \"1 stick\", \"flour\": \"2 cups\", \"salt\": \"1 tsp\"}"
   ]
  },
  {
   "cell_type": "code",
   "execution_count": null,
   "id": "b006a5a5",
   "metadata": {},
   "outputs": [],
   "source": [
    "names = [\"Sam\", \"Brandy\", \"Chris\"]"
   ]
  },
  {
   "cell_type": "code",
   "execution_count": null,
   "id": "3e5ba543",
   "metadata": {},
   "outputs": [],
   "source": [
    "names[2]"
   ]
  },
  {
   "cell_type": "code",
   "execution_count": null,
   "id": "84a73c17",
   "metadata": {},
   "outputs": [],
   "source": [
    "ingredients[\"sugar\"] = \"2 tbs\""
   ]
  },
  {
   "cell_type": "code",
   "execution_count": null,
   "id": "b02cea91",
   "metadata": {},
   "outputs": [],
   "source": [
    "ingredients"
   ]
  },
  {
   "cell_type": "code",
   "execution_count": null,
   "id": "83f29483",
   "metadata": {},
   "outputs": [],
   "source": [
    "database = {\"username\": \"password\"}"
   ]
  },
  {
   "cell_type": "code",
   "execution_count": null,
   "id": "456ece92",
   "metadata": {},
   "outputs": [],
   "source": [
    "database[\"luvsCats\"] = \"kitty123\""
   ]
  },
  {
   "cell_type": "code",
   "execution_count": null,
   "id": "c1aa35b8",
   "metadata": {},
   "outputs": [],
   "source": [
    "database"
   ]
  },
  {
   "cell_type": "code",
   "execution_count": null,
   "id": "85298678",
   "metadata": {},
   "outputs": [],
   "source": [
    "print(database.values())"
   ]
  },
  {
   "cell_type": "code",
   "execution_count": null,
   "id": "7d0410f6",
   "metadata": {},
   "outputs": [],
   "source": [
    "for key, value in database.items():\n",
    "    print(key, value)"
   ]
  },
  {
   "cell_type": "code",
   "execution_count": null,
   "id": "6d1063c4",
   "metadata": {},
   "outputs": [],
   "source": []
  },
  {
   "cell_type": "code",
   "execution_count": null,
   "id": "5b8f7306",
   "metadata": {},
   "outputs": [],
   "source": []
  },
  {
   "cell_type": "code",
   "execution_count": null,
   "id": "5efc1244",
   "metadata": {},
   "outputs": [],
   "source": [
    "for key, value in database:\n",
    "    pass\n",
    "    "
   ]
  },
  {
   "cell_type": "code",
   "execution_count": null,
   "id": "aa2fbfd4",
   "metadata": {},
   "outputs": [],
   "source": []
  },
  {
   "cell_type": "code",
   "execution_count": null,
   "id": "2bb41c90",
   "metadata": {},
   "outputs": [],
   "source": []
  },
  {
   "cell_type": "code",
   "execution_count": null,
   "id": "988b7927",
   "metadata": {},
   "outputs": [],
   "source": []
  },
  {
   "cell_type": "code",
   "execution_count": null,
   "id": "077ab77b",
   "metadata": {},
   "outputs": [],
   "source": []
  },
  {
   "cell_type": "code",
   "execution_count": null,
   "id": "30a9ad57",
   "metadata": {},
   "outputs": [],
   "source": []
  },
  {
   "cell_type": "code",
   "execution_count": null,
   "id": "ff474579",
   "metadata": {},
   "outputs": [],
   "source": []
  },
  {
   "cell_type": "code",
   "execution_count": null,
   "id": "c020bd9a",
   "metadata": {},
   "outputs": [],
   "source": []
  },
  {
   "cell_type": "code",
   "execution_count": null,
   "id": "d4fb8da2",
   "metadata": {},
   "outputs": [],
   "source": []
  },
  {
   "cell_type": "markdown",
   "id": "3067b8ff",
   "metadata": {},
   "source": [
    "# Sets"
   ]
  },
  {
   "cell_type": "code",
   "execution_count": null,
   "id": "724bf116",
   "metadata": {},
   "outputs": [],
   "source": [
    "my_new_list = [1,1,1,1,2,3,3,3,3]"
   ]
  },
  {
   "cell_type": "code",
   "execution_count": null,
   "id": "eb583004",
   "metadata": {},
   "outputs": [],
   "source": [
    "my_smaller_list = set(my_new_list)"
   ]
  },
  {
   "cell_type": "code",
   "execution_count": null,
   "id": "6206a99c",
   "metadata": {},
   "outputs": [],
   "source": [
    "my_smaller_list"
   ]
  },
  {
   "cell_type": "code",
   "execution_count": null,
   "id": "cd7c7f18",
   "metadata": {},
   "outputs": [],
   "source": [
    "my_set = {}"
   ]
  },
  {
   "cell_type": "code",
   "execution_count": null,
   "id": "8f6a66f4",
   "metadata": {},
   "outputs": [],
   "source": [
    "type(my_set)"
   ]
  },
  {
   "cell_type": "code",
   "execution_count": null,
   "id": "b2e328d1",
   "metadata": {},
   "outputs": [],
   "source": [
    "my_set = set()"
   ]
  },
  {
   "cell_type": "code",
   "execution_count": null,
   "id": "2e2f794b",
   "metadata": {},
   "outputs": [],
   "source": [
    "type(my_set)"
   ]
  },
  {
   "cell_type": "code",
   "execution_count": null,
   "id": "2d4d7fa4",
   "metadata": {},
   "outputs": [],
   "source": [
    "my_set.add(42)"
   ]
  },
  {
   "cell_type": "code",
   "execution_count": null,
   "id": "969528ee",
   "metadata": {},
   "outputs": [],
   "source": [
    "my_set"
   ]
  },
  {
   "cell_type": "code",
   "execution_count": null,
   "id": "8c9d53a9",
   "metadata": {},
   "outputs": [],
   "source": [
    "my_set.add(34)"
   ]
  },
  {
   "cell_type": "code",
   "execution_count": null,
   "id": "2c6181ad",
   "metadata": {},
   "outputs": [],
   "source": [
    "my_set"
   ]
  },
  {
   "cell_type": "code",
   "execution_count": null,
   "id": "1764e9f0",
   "metadata": {},
   "outputs": [],
   "source": [
    "my_set.add(42)"
   ]
  },
  {
   "cell_type": "code",
   "execution_count": null,
   "id": "733f3b76",
   "metadata": {},
   "outputs": [],
   "source": [
    "my_set"
   ]
  },
  {
   "cell_type": "code",
   "execution_count": null,
   "id": "4b6705a6",
   "metadata": {},
   "outputs": [],
   "source": []
  }
 ],
 "metadata": {
  "kernelspec": {
   "display_name": "Python 3",
   "language": "python",
   "name": "python3"
  },
  "language_info": {
   "codemirror_mode": {
    "name": "ipython",
    "version": 3
   },
   "file_extension": ".py",
   "mimetype": "text/x-python",
   "name": "python",
   "nbconvert_exporter": "python",
   "pygments_lexer": "ipython3",
   "version": "3.8.8"
  }
 },
 "nbformat": 4,
 "nbformat_minor": 5
}
