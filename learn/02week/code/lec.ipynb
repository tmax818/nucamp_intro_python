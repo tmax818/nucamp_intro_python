{
 "cells": [
  {
   "cell_type": "code",
   "execution_count": 90,
   "id": "ceba5e80",
   "metadata": {},
   "outputs": [],
   "source": [
    "def is_even(n):\n",
    "    if n % 2 == 0:\n",
    "        return True\n"
   ]
  },
  {
   "cell_type": "code",
   "execution_count": 91,
   "id": "16a8b316",
   "metadata": {},
   "outputs": [
    {
     "data": {
      "text/plain": [
       "True"
      ]
     },
     "execution_count": 91,
     "metadata": {},
     "output_type": "execute_result"
    }
   ],
   "source": [
    "is_even(2)"
   ]
  },
  {
   "cell_type": "code",
   "execution_count": 92,
   "id": "61216cb0",
   "metadata": {},
   "outputs": [],
   "source": [
    "is_even(3)"
   ]
  },
  {
   "cell_type": "code",
   "execution_count": 21,
   "id": "880a8d94",
   "metadata": {},
   "outputs": [],
   "source": [
    "# function that is a countdown\n",
    "\n",
    "my_list = [1,2,3,4,5]\n",
    "\n",
    "def countdown_list(my_list):\n",
    "\n",
    "    for i in my_list[::-1]:\n",
    "        if i == 3:\n",
    "            break\n",
    "        print(i)\n",
    "        "
   ]
  },
  {
   "cell_type": "code",
   "execution_count": 22,
   "id": "07ca751a",
   "metadata": {},
   "outputs": [
    {
     "name": "stdout",
     "output_type": "stream",
     "text": [
      "5\n",
      "4\n"
     ]
    }
   ],
   "source": [
    "countdown_list(my_list)"
   ]
  },
  {
   "cell_type": "code",
   "execution_count": 16,
   "id": "cf3e3d2e",
   "metadata": {},
   "outputs": [
    {
     "name": "stdout",
     "output_type": "stream",
     "text": [
      "[5, 4, 3, 2, 1]\n"
     ]
    }
   ],
   "source": [
    "print(my_list[::-1])"
   ]
  },
  {
   "cell_type": "code",
   "execution_count": 69,
   "id": "ece0eb87",
   "metadata": {},
   "outputs": [],
   "source": [
    "def say_hello(*args):\n",
    "    for i in range(len(args)):\n",
    "        print(f\"how are you {args[i]}\")\n"
   ]
  },
  {
   "cell_type": "code",
   "execution_count": 70,
   "id": "6f804484",
   "metadata": {},
   "outputs": [
    {
     "name": "stdout",
     "output_type": "stream",
     "text": [
      "how are you tyler\n",
      "how are you matt\n",
      "how are you bob\n",
      "how are you maria\n",
      "how are you joan\n"
     ]
    }
   ],
   "source": [
    "say_hello(\"tyler\", \"matt\", \"bob\", 'maria', 'joan')"
   ]
  },
  {
   "cell_type": "code",
   "execution_count": 89,
   "id": "b3722b65",
   "metadata": {},
   "outputs": [
    {
     "name": "stdout",
     "output_type": "stream",
     "text": [
      "gimme a number!12\n",
      "48\n"
     ]
    }
   ],
   "source": [
    "number = int(input(\"gimme a number!\"))\n",
    "print(number*4)"
   ]
  },
  {
   "cell_type": "code",
   "execution_count": 117,
   "id": "6c860eec",
   "metadata": {},
   "outputs": [],
   "source": [
    "sqr = lambda num: num**2\n",
    "cube = lambda num: num**3"
   ]
  },
  {
   "cell_type": "code",
   "execution_count": 118,
   "id": "3dae5dcf",
   "metadata": {},
   "outputs": [
    {
     "data": {
      "text/plain": [
       "64"
      ]
     },
     "execution_count": 118,
     "metadata": {},
     "output_type": "execute_result"
    }
   ],
   "source": [
    "cube(4)"
   ]
  },
  {
   "cell_type": "code",
   "execution_count": 120,
   "id": "c843a208",
   "metadata": {},
   "outputs": [],
   "source": [
    "def power(num,func):\n",
    "    return func(num)"
   ]
  },
  {
   "cell_type": "code",
   "execution_count": 122,
   "id": "631ecd3e",
   "metadata": {},
   "outputs": [
    {
     "data": {
      "text/plain": [
       "8"
      ]
     },
     "execution_count": 122,
     "metadata": {},
     "output_type": "execute_result"
    }
   ],
   "source": [
    "power(2, lambda num: num**3)"
   ]
  },
  {
   "cell_type": "code",
   "execution_count": 128,
   "id": "3acedc2d",
   "metadata": {},
   "outputs": [],
   "source": [
    "def factorial(n):\n",
    "    total = 1\n",
    "    for i in range(n, 0, -1):\n",
    "        total = total * i\n",
    "    return total"
   ]
  },
  {
   "cell_type": "code",
   "execution_count": 129,
   "id": "3112fde0",
   "metadata": {},
   "outputs": [
    {
     "data": {
      "text/plain": [
       "120"
      ]
     },
     "execution_count": 129,
     "metadata": {},
     "output_type": "execute_result"
    }
   ],
   "source": [
    "factorial(5)"
   ]
  },
  {
   "cell_type": "code",
   "execution_count": null,
   "id": "d10d5e05",
   "metadata": {},
   "outputs": [],
   "source": []
  },
  {
   "cell_type": "code",
   "execution_count": null,
   "id": "6c03f7d8",
   "metadata": {},
   "outputs": [],
   "source": []
  },
  {
   "cell_type": "code",
   "execution_count": null,
   "id": "d99dcd47",
   "metadata": {},
   "outputs": [],
   "source": []
  },
  {
   "cell_type": "code",
   "execution_count": 133,
   "id": "d55ede90",
   "metadata": {},
   "outputs": [],
   "source": [
    "from random import choice"
   ]
  },
  {
   "cell_type": "code",
   "execution_count": 146,
   "id": "b81eddc8",
   "metadata": {},
   "outputs": [],
   "source": [
    "collection = {'x':1, 'y':2}"
   ]
  },
  {
   "cell_type": "code",
   "execution_count": 148,
   "id": "4c669c65",
   "metadata": {},
   "outputs": [
    {
     "data": {
      "text/plain": [
       "2"
      ]
     },
     "execution_count": 148,
     "metadata": {},
     "output_type": "execute_result"
    }
   ],
   "source": [
    "choice(list(collection.values()))"
   ]
  },
  {
   "cell_type": "code",
   "execution_count": 149,
   "id": "47b20d15",
   "metadata": {},
   "outputs": [
    {
     "data": {
      "text/plain": [
       "{'x': 1, 'y': 2}"
      ]
     },
     "execution_count": 149,
     "metadata": {},
     "output_type": "execute_result"
    }
   ],
   "source": [
    "collection\n"
   ]
  },
  {
   "cell_type": "code",
   "execution_count": 150,
   "id": "35e8f75b",
   "metadata": {},
   "outputs": [
    {
     "data": {
      "text/plain": [
       "dict_values([1, 2])"
      ]
     },
     "execution_count": 150,
     "metadata": {},
     "output_type": "execute_result"
    }
   ],
   "source": [
    "collection.values()"
   ]
  },
  {
   "cell_type": "code",
   "execution_count": null,
   "id": "2924bf2c",
   "metadata": {},
   "outputs": [],
   "source": []
  }
 ],
 "metadata": {
  "kernelspec": {
   "display_name": "Python 3.8.8 64-bit ('base': conda)",
   "language": "python",
   "name": "python388jvsc74a57bd057d418549deb2b28c2bac4f6acf8fe5c78b0c3ba07880bf4f33452d12e17b367"
  },
  "language_info": {
   "codemirror_mode": {
    "name": "ipython",
    "version": 3
   },
   "file_extension": ".py",
   "mimetype": "text/x-python",
   "name": "python",
   "nbconvert_exporter": "python",
   "pygments_lexer": "ipython3",
   "version": "3.8.8"
  }
 },
 "nbformat": 4,
 "nbformat_minor": 5
}
