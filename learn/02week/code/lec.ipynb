{
 "cells": [
  {
   "cell_type": "markdown",
   "id": "7d3d44d3",
   "metadata": {},
   "source": [
    "### Week 2\n",
    "\n",
    "- item one\n",
    "- item two"
   ]
  },
  {
   "cell_type": "code",
   "execution_count": 4,
   "id": "ceba5e80",
   "metadata": {},
   "outputs": [],
   "source": [
    "number = range(11)"
   ]
  },
  {
   "cell_type": "code",
   "execution_count": 5,
   "id": "0c2c1f5d",
   "metadata": {
    "scrolled": true
   },
   "outputs": [
    {
     "name": "stdout",
     "output_type": "stream",
     "text": [
      "range(0, 11)\n"
     ]
    }
   ],
   "source": [
    "print(number)"
   ]
  },
  {
   "cell_type": "code",
   "execution_count": 6,
   "id": "9317e147",
   "metadata": {},
   "outputs": [
    {
     "data": {
      "text/plain": [
       "[0, 1, 2, 3, 4, 5, 6, 7, 8, 9, 10]"
      ]
     },
     "execution_count": 6,
     "metadata": {},
     "output_type": "execute_result"
    }
   ],
   "source": [
    "list(number)"
   ]
  },
  {
   "cell_type": "code",
   "execution_count": 5,
   "id": "5a0d34a9",
   "metadata": {},
   "outputs": [
    {
     "name": "stdout",
     "output_type": "stream",
     "text": [
      "gimme a number45\n",
      "1\n",
      "2\n",
      "3\n",
      "4\n",
      "5\n",
      "6\n",
      "7\n",
      "8\n",
      "9\n",
      "10\n",
      "11\n",
      "12\n",
      "13\n",
      "14\n",
      "15\n",
      "16\n",
      "17\n",
      "18\n",
      "19\n",
      "20\n",
      "21\n",
      "22\n",
      "23\n",
      "24\n",
      "25\n",
      "26\n",
      "27\n",
      "28\n",
      "29\n",
      "30\n",
      "31\n",
      "32\n",
      "33\n",
      "34\n",
      "35\n",
      "36\n",
      "37\n",
      "38\n",
      "39\n",
      "40\n",
      "41\n",
      "42\n",
      "43\n",
      "44\n",
      "45\n"
     ]
    }
   ],
   "source": [
    "number = int(input(\"gimme a number\"))\n",
    "for i in range(1, number + 1):\n",
    "    print(i)"
   ]
  },
  {
   "cell_type": "code",
   "execution_count": 2,
   "id": "c6ae7ca8",
   "metadata": {},
   "outputs": [
    {
     "name": "stdout",
     "output_type": "stream",
     "text": [
      "45\n"
     ]
    }
   ],
   "source": [
    "print(number)"
   ]
  },
  {
   "cell_type": "code",
   "execution_count": 2,
   "id": "2bfb52da",
   "metadata": {},
   "outputs": [],
   "source": [
    "names = ['Dan', 'Aviv', 'Chris']"
   ]
  },
  {
   "cell_type": "code",
   "execution_count": 6,
   "id": "607717a2",
   "metadata": {},
   "outputs": [
    {
     "name": "stdout",
     "output_type": "stream",
     "text": [
      "Dan\n",
      "Chris\n"
     ]
    }
   ],
   "source": [
    "for name in names:\n",
    "    if name == 'Aviv':\n",
    "        continue\n",
    "    else:\n",
    "        print(name)"
   ]
  },
  {
   "cell_type": "code",
   "execution_count": 12,
   "id": "16a8b316",
   "metadata": {},
   "outputs": [
    {
     "name": "stdout",
     "output_type": "stream",
     "text": [
      "tyler\n"
     ]
    }
   ],
   "source": [
    "name = \"tyler\"\n",
    "print(name)"
   ]
  },
  {
   "cell_type": "code",
   "execution_count": null,
   "id": "61216cb0",
   "metadata": {},
   "outputs": [],
   "source": []
  },
  {
   "cell_type": "code",
   "execution_count": 23,
   "id": "3efbd788",
   "metadata": {},
   "outputs": [
    {
     "data": {
      "text/plain": [
       "'e'"
      ]
     },
     "execution_count": 23,
     "metadata": {},
     "output_type": "execute_result"
    }
   ],
   "source": [
    "min(name)"
   ]
  },
  {
   "cell_type": "code",
   "execution_count": 19,
   "id": "880a8d94",
   "metadata": {},
   "outputs": [],
   "source": [
    "# function that is a countdown\n",
    "\n",
    "my_list = [1,2,3,4,5]\n",
    "\n",
    "def countdown_list(my_list):\n",
    "\n",
    "    for i in my_list[::-1]:\n",
    "        if i == 3:\n",
    "            break\n",
    "        print(i)\n",
    "        "
   ]
  },
  {
   "cell_type": "code",
   "execution_count": 34,
   "id": "07ca751a",
   "metadata": {},
   "outputs": [],
   "source": [
    "def add(a,b):\n",
    "    inner_sum = a + b\n",
    "    return inner_sum"
   ]
  },
  {
   "cell_type": "code",
   "execution_count": 36,
   "id": "41579e47",
   "metadata": {},
   "outputs": [],
   "source": [
    "sum = add(4,5)"
   ]
  },
  {
   "cell_type": "code",
   "execution_count": 46,
   "id": "5a143645",
   "metadata": {},
   "outputs": [],
   "source": [
    "def my_func():\n",
    "    \"\"\"This is my function, there are many like it, but this one is mine.\"\"\"\n",
    "    print(\"this is my function\")"
   ]
  },
  {
   "cell_type": "code",
   "execution_count": 47,
   "id": "cf3e3d2e",
   "metadata": {},
   "outputs": [
    {
     "name": "stdout",
     "output_type": "stream",
     "text": [
      "Help on function my_func in module __main__:\n",
      "\n",
      "my_func()\n",
      "    This is my function, there are many like it, but this one is mine.\n",
      "\n"
     ]
    }
   ],
   "source": [
    "help(my_func)"
   ]
  },
  {
   "cell_type": "code",
   "execution_count": 43,
   "id": "60217235",
   "metadata": {},
   "outputs": [
    {
     "data": {
      "text/plain": [
       "<function __main__.my_func()>"
      ]
     },
     "execution_count": 43,
     "metadata": {},
     "output_type": "execute_result"
    }
   ],
   "source": [
    "x"
   ]
  },
  {
   "cell_type": "code",
   "execution_count": 44,
   "id": "ece0eb87",
   "metadata": {},
   "outputs": [
    {
     "name": "stdout",
     "output_type": "stream",
     "text": [
      "this is my function\n"
     ]
    }
   ],
   "source": [
    "x()"
   ]
  },
  {
   "cell_type": "code",
   "execution_count": 45,
   "id": "6f804484",
   "metadata": {},
   "outputs": [
    {
     "name": "stdout",
     "output_type": "stream",
     "text": [
      "this is my function\n"
     ]
    }
   ],
   "source": [
    "my_func()"
   ]
  },
  {
   "cell_type": "code",
   "execution_count": null,
   "id": "b3722b65",
   "metadata": {},
   "outputs": [],
   "source": []
  },
  {
   "cell_type": "code",
   "execution_count": 55,
   "id": "6c860eec",
   "metadata": {},
   "outputs": [],
   "source": [
    "sqr = lambda num: num**2\n",
    "cube = lambda num: num**3"
   ]
  },
  {
   "cell_type": "code",
   "execution_count": 58,
   "id": "3dae5dcf",
   "metadata": {},
   "outputs": [
    {
     "data": {
      "text/plain": [
       "8"
      ]
     },
     "execution_count": 58,
     "metadata": {},
     "output_type": "execute_result"
    }
   ],
   "source": [
    "cube(2)"
   ]
  },
  {
   "cell_type": "code",
   "execution_count": 62,
   "id": "fe892aea",
   "metadata": {},
   "outputs": [],
   "source": [
    "def ret_sqr(val):\n",
    "    return sqr(val)"
   ]
  },
  {
   "cell_type": "code",
   "execution_count": 63,
   "id": "394a2ac5",
   "metadata": {},
   "outputs": [
    {
     "data": {
      "text/plain": [
       "4"
      ]
     },
     "execution_count": 63,
     "metadata": {},
     "output_type": "execute_result"
    }
   ],
   "source": [
    "ret_sqr(2)"
   ]
  },
  {
   "cell_type": "code",
   "execution_count": 59,
   "id": "c843a208",
   "metadata": {},
   "outputs": [],
   "source": [
    "def power(val, func):\n",
    "    return func(val)"
   ]
  },
  {
   "cell_type": "code",
   "execution_count": 60,
   "id": "631ecd3e",
   "metadata": {},
   "outputs": [
    {
     "data": {
      "text/plain": [
       "8"
      ]
     },
     "execution_count": 60,
     "metadata": {},
     "output_type": "execute_result"
    }
   ],
   "source": [
    "power(2,cube)"
   ]
  },
  {
   "cell_type": "code",
   "execution_count": 61,
   "id": "3acedc2d",
   "metadata": {},
   "outputs": [
    {
     "data": {
      "text/plain": [
       "4"
      ]
     },
     "execution_count": 61,
     "metadata": {},
     "output_type": "execute_result"
    }
   ],
   "source": [
    "power(2, sqr)"
   ]
  },
  {
   "cell_type": "code",
   "execution_count": null,
   "id": "3112fde0",
   "metadata": {},
   "outputs": [],
   "source": []
  },
  {
   "cell_type": "code",
   "execution_count": null,
   "id": "d10d5e05",
   "metadata": {},
   "outputs": [],
   "source": []
  },
  {
   "cell_type": "code",
   "execution_count": null,
   "id": "6c03f7d8",
   "metadata": {},
   "outputs": [],
   "source": []
  },
  {
   "cell_type": "code",
   "execution_count": null,
   "id": "d99dcd47",
   "metadata": {},
   "outputs": [],
   "source": []
  },
  {
   "cell_type": "code",
   "execution_count": 133,
   "id": "d55ede90",
   "metadata": {},
   "outputs": [],
   "source": [
    "from random import choice"
   ]
  },
  {
   "cell_type": "code",
   "execution_count": 146,
   "id": "b81eddc8",
   "metadata": {},
   "outputs": [],
   "source": [
    "collection = {'x':1, 'y':2}"
   ]
  },
  {
   "cell_type": "code",
   "execution_count": 148,
   "id": "4c669c65",
   "metadata": {},
   "outputs": [
    {
     "data": {
      "text/plain": [
       "2"
      ]
     },
     "execution_count": 148,
     "metadata": {},
     "output_type": "execute_result"
    }
   ],
   "source": [
    "choice(list(collection.values()))"
   ]
  },
  {
   "cell_type": "code",
   "execution_count": 149,
   "id": "47b20d15",
   "metadata": {},
   "outputs": [
    {
     "data": {
      "text/plain": [
       "{'x': 1, 'y': 2}"
      ]
     },
     "execution_count": 149,
     "metadata": {},
     "output_type": "execute_result"
    }
   ],
   "source": [
    "collection\n"
   ]
  },
  {
   "cell_type": "code",
   "execution_count": 150,
   "id": "35e8f75b",
   "metadata": {},
   "outputs": [
    {
     "data": {
      "text/plain": [
       "dict_values([1, 2])"
      ]
     },
     "execution_count": 150,
     "metadata": {},
     "output_type": "execute_result"
    }
   ],
   "source": [
    "collection.values()"
   ]
  },
  {
   "cell_type": "code",
   "execution_count": 48,
   "id": "2924bf2c",
   "metadata": {},
   "outputs": [],
   "source": [
    "number = '43'"
   ]
  },
  {
   "cell_type": "code",
   "execution_count": 49,
   "id": "ec07f4f6",
   "metadata": {},
   "outputs": [
    {
     "data": {
      "text/plain": [
       "43"
      ]
     },
     "execution_count": 49,
     "metadata": {},
     "output_type": "execute_result"
    }
   ],
   "source": [
    "int(number)"
   ]
  },
  {
   "cell_type": "code",
   "execution_count": null,
   "id": "13cd7edc",
   "metadata": {},
   "outputs": [],
   "source": []
  }
 ],
 "metadata": {
  "kernelspec": {
   "display_name": "Python 3.8.8 64-bit ('base': conda)",
   "language": "python",
   "name": "python388jvsc74a57bd057d418549deb2b28c2bac4f6acf8fe5c78b0c3ba07880bf4f33452d12e17b367"
  },
  "language_info": {
   "codemirror_mode": {
    "name": "ipython",
    "version": 3
   },
   "file_extension": ".py",
   "mimetype": "text/x-python",
   "name": "python",
   "nbconvert_exporter": "python",
   "pygments_lexer": "ipython3",
   "version": "3.8.8"
  }
 },
 "nbformat": 4,
 "nbformat_minor": 5
}
