{
 "cells": [
  {
   "cell_type": "markdown",
   "id": "b4e7e5f6",
   "metadata": {},
   "source": [
    "# Week 2"
   ]
  },
  {
   "cell_type": "markdown",
   "id": "fdd25e36",
   "metadata": {},
   "source": [
    "### Why do we use function?\n",
    "- DRY\n",
    "\n"
   ]
  },
  {
   "cell_type": "markdown",
   "id": "9304e7f0",
   "metadata": {},
   "source": [
    "## built-in Functions"
   ]
  },
  {
   "cell_type": "code",
   "execution_count": null,
   "id": "4597d307",
   "metadata": {},
   "outputs": [],
   "source": [
    "max(\"string\")"
   ]
  },
  {
   "cell_type": "code",
   "execution_count": null,
   "id": "18a8ea89",
   "metadata": {},
   "outputs": [],
   "source": []
  },
  {
   "cell_type": "code",
   "execution_count": null,
   "id": "55266331",
   "metadata": {},
   "outputs": [],
   "source": []
  },
  {
   "cell_type": "code",
   "execution_count": null,
   "id": "dfac3e85",
   "metadata": {},
   "outputs": [],
   "source": []
  },
  {
   "cell_type": "markdown",
   "id": "980b0624",
   "metadata": {},
   "source": [
    "## Review: `input()`"
   ]
  },
  {
   "cell_type": "code",
   "execution_count": null,
   "id": "0647a320",
   "metadata": {},
   "outputs": [],
   "source": [
    "while True:\n",
    "    username = input(\"What's your name? \")\n",
    "    if username == \"tyler\":\n",
    "        break\n",
    "    else:\n",
    "        continue\n",
    "print(f\"Welcome, {username}\")"
   ]
  },
  {
   "cell_type": "code",
   "execution_count": null,
   "id": "647b7357",
   "metadata": {},
   "outputs": [],
   "source": []
  },
  {
   "cell_type": "code",
   "execution_count": null,
   "id": "f0b4c8f9",
   "metadata": {},
   "outputs": [],
   "source": []
  },
  {
   "cell_type": "markdown",
   "id": "13d773fb",
   "metadata": {},
   "source": [
    "## Custom functions"
   ]
  },
  {
   "cell_type": "code",
   "execution_count": null,
   "id": "29d93b43",
   "metadata": {},
   "outputs": [],
   "source": [
    "def add(x,y):\n"
   ]
  },
  {
   "cell_type": "code",
   "execution_count": null,
   "id": "44464792",
   "metadata": {},
   "outputs": [],
   "source": []
  },
  {
   "cell_type": "code",
   "execution_count": null,
   "id": "9eb12704",
   "metadata": {},
   "outputs": [],
   "source": []
  },
  {
   "cell_type": "code",
   "execution_count": null,
   "id": "97777635",
   "metadata": {},
   "outputs": [],
   "source": [
    "def say_hello():\n",
    "    print(\"hi\")"
   ]
  },
  {
   "cell_type": "code",
   "execution_count": null,
   "id": "f1ae9bec",
   "metadata": {},
   "outputs": [],
   "source": [
    "say_hello()"
   ]
  },
  {
   "cell_type": "code",
   "execution_count": null,
   "id": "f19250d8",
   "metadata": {},
   "outputs": [],
   "source": []
  },
  {
   "cell_type": "code",
   "execution_count": null,
   "id": "8c5f15b7",
   "metadata": {},
   "outputs": [],
   "source": []
  },
  {
   "cell_type": "code",
   "execution_count": null,
   "id": "bbcaed83",
   "metadata": {},
   "outputs": [],
   "source": []
  },
  {
   "cell_type": "code",
   "execution_count": null,
   "id": "ab64d49b",
   "metadata": {},
   "outputs": [],
   "source": []
  },
  {
   "cell_type": "markdown",
   "id": "4c09109c",
   "metadata": {},
   "source": [
    "### `for` and `range`"
   ]
  },
  {
   "cell_type": "code",
   "execution_count": null,
   "id": "fa187062",
   "metadata": {},
   "outputs": [],
   "source": [
    "start = 1\n",
    "stop = 10\n",
    "step = 2\n",
    "my_list = [1, 2, 3, 4, 5]\n",
    "\n",
    "for i in my_list:\n",
    "    print(i)\n",
    "\n"
   ]
  },
  {
   "cell_type": "code",
   "execution_count": null,
   "id": "55465195",
   "metadata": {},
   "outputs": [],
   "source": []
  },
  {
   "cell_type": "code",
   "execution_count": null,
   "id": "d0534abe",
   "metadata": {},
   "outputs": [],
   "source": []
  },
  {
   "cell_type": "code",
   "execution_count": null,
   "id": "13b47f9b",
   "metadata": {},
   "outputs": [],
   "source": []
  },
  {
   "cell_type": "code",
   "execution_count": null,
   "id": "877c4d87",
   "metadata": {},
   "outputs": [],
   "source": []
  },
  {
   "cell_type": "markdown",
   "id": "3ee8b038",
   "metadata": {},
   "source": [
    "## Scope\n",
    "\n",
    "- Local\n",
    "- Enclosing\n",
    "- Global\n",
    "- Built in"
   ]
  },
  {
   "cell_type": "code",
   "execution_count": null,
   "id": "1218f118",
   "metadata": {},
   "outputs": [],
   "source": [
    "gvar = \"G\"\n",
    "print(\"hello from Global\")\n",
    "\n",
    "def a():\n",
    "    bvar = 'B'\n",
    "    avar = 'A'\n",
    "    print(\"hello from a\")\n",
    "    print(\"local\",len)\n",
    "\n",
    "    def b():\n",
    "     \n",
    "        print(\"hello from b\")\n",
    "        print(\"enclosed\",len)\n",
    "        print(bvar)\n",
    "        print(gvar)\n",
    "        print(no_var)\n",
    "    b()\n",
    "    \n",
    "print(\"global\",len)\n",
    "a()\n"
   ]
  },
  {
   "cell_type": "code",
   "execution_count": null,
   "id": "93017eef",
   "metadata": {},
   "outputs": [],
   "source": []
  },
  {
   "cell_type": "markdown",
   "id": "d6889899",
   "metadata": {},
   "source": [
    "## lambda"
   ]
  },
  {
   "cell_type": "code",
   "execution_count": null,
   "id": "7b0dd4fb",
   "metadata": {},
   "outputs": [],
   "source": [
    "def square_num(num, square):\n",
    "    return square(num)\n",
    "    \n",
    "num = 16\n",
    "square = lambda num: num**2\n",
    "    \n",
    "\n",
    "square_num(16, lambda num: num ** 2)"
   ]
  },
  {
   "cell_type": "code",
   "execution_count": null,
   "id": "ea5441dc",
   "metadata": {},
   "outputs": [],
   "source": [
    "new_sqr = lambda num: num**2"
   ]
  },
  {
   "cell_type": "code",
   "execution_count": null,
   "id": "8f0de52d",
   "metadata": {},
   "outputs": [],
   "source": [
    "new_sqr(4)"
   ]
  },
  {
   "cell_type": "code",
   "execution_count": null,
   "id": "69861f85",
   "metadata": {},
   "outputs": [],
   "source": []
  },
  {
   "cell_type": "code",
   "execution_count": null,
   "id": "c297496f",
   "metadata": {},
   "outputs": [],
   "source": []
  },
  {
   "cell_type": "code",
   "execution_count": null,
   "id": "844494cd",
   "metadata": {},
   "outputs": [],
   "source": []
  },
  {
   "cell_type": "code",
   "execution_count": null,
   "id": "50938480",
   "metadata": {},
   "outputs": [],
   "source": []
  },
  {
   "cell_type": "code",
   "execution_count": null,
   "id": "37c50d7f",
   "metadata": {},
   "outputs": [],
   "source": []
  },
  {
   "cell_type": "code",
   "execution_count": null,
   "id": "f36fb981",
   "metadata": {},
   "outputs": [],
   "source": []
  },
  {
   "cell_type": "code",
   "execution_count": null,
   "id": "9655ac7e",
   "metadata": {},
   "outputs": [],
   "source": []
  },
  {
   "cell_type": "code",
   "execution_count": null,
   "id": "50d654a7",
   "metadata": {},
   "outputs": [],
   "source": []
  },
  {
   "cell_type": "code",
   "execution_count": null,
   "id": "2e8481c4",
   "metadata": {},
   "outputs": [],
   "source": []
  },
  {
   "cell_type": "code",
   "execution_count": null,
   "id": "97b054a2",
   "metadata": {},
   "outputs": [],
   "source": []
  },
  {
   "cell_type": "code",
   "execution_count": null,
   "id": "8b252a70",
   "metadata": {},
   "outputs": [],
   "source": []
  },
  {
   "cell_type": "markdown",
   "id": "068596d2",
   "metadata": {},
   "source": [
    "## Recursion\n",
    "\n",
    "- 5! = 5 * 4 * 3 * 2 * 1 = 120"
   ]
  },
  {
   "cell_type": "code",
   "execution_count": null,
   "id": "34cfe693",
   "metadata": {},
   "outputs": [],
   "source": [
    "def factorial_non_r(num):\n",
    "    for i in range(1, num):\n",
    "        num *= i\n",
    "    return num"
   ]
  },
  {
   "cell_type": "code",
   "execution_count": null,
   "id": "4f5727cc",
   "metadata": {},
   "outputs": [],
   "source": [
    "factorial_non_r(5)"
   ]
  },
  {
   "cell_type": "code",
   "execution_count": null,
   "id": "014243c1",
   "metadata": {},
   "outputs": [],
   "source": []
  },
  {
   "cell_type": "code",
   "execution_count": null,
   "id": "46a3f3cd",
   "metadata": {},
   "outputs": [],
   "source": [
    "def factorial(num):\n",
    "    if num == 1:\n",
    "        return num\n",
    "    else:\n",
    "        return num * factorial(num - 1)"
   ]
  },
  {
   "cell_type": "code",
   "execution_count": null,
   "id": "5ced988d",
   "metadata": {},
   "outputs": [],
   "source": [
    "factorial(5)"
   ]
  },
  {
   "cell_type": "code",
   "execution_count": null,
   "id": "cef1b71d",
   "metadata": {},
   "outputs": [],
   "source": [
    "%timeit factorial(5)"
   ]
  },
  {
   "cell_type": "code",
   "execution_count": null,
   "id": "904c2038",
   "metadata": {},
   "outputs": [],
   "source": [
    "%timeit factorial_non_r(5)"
   ]
  },
  {
   "cell_type": "code",
   "execution_count": null,
   "id": "accdcc5f",
   "metadata": {},
   "outputs": [],
   "source": [
    "import random"
   ]
  },
  {
   "cell_type": "code",
   "execution_count": null,
   "id": "6a40dafb",
   "metadata": {},
   "outputs": [],
   "source": [
    "help(random)"
   ]
  },
  {
   "cell_type": "code",
   "execution_count": null,
   "id": "caa71541",
   "metadata": {},
   "outputs": [],
   "source": [
    "names = ['Tina', \"Jess\", \"Jesus\"]"
   ]
  },
  {
   "cell_type": "code",
   "execution_count": null,
   "id": "5e46efde",
   "metadata": {},
   "outputs": [],
   "source": [
    "random.choice(names)"
   ]
  },
  {
   "cell_type": "code",
   "execution_count": null,
   "id": "1861b81b",
   "metadata": {},
   "outputs": [],
   "source": [
    "random.randint(1, 6)"
   ]
  },
  {
   "cell_type": "code",
   "execution_count": null,
   "id": "08228b97",
   "metadata": {},
   "outputs": [],
   "source": []
  },
  {
   "cell_type": "code",
   "execution_count": null,
   "id": "75a16bab",
   "metadata": {},
   "outputs": [],
   "source": [
    "import this"
   ]
  },
  {
   "cell_type": "code",
   "execution_count": null,
   "id": "b652a0da",
   "metadata": {},
   "outputs": [],
   "source": []
  },
  {
   "cell_type": "code",
   "execution_count": null,
   "id": "13720aec",
   "metadata": {},
   "outputs": [],
   "source": []
  },
  {
   "cell_type": "code",
   "execution_count": null,
   "id": "2d6f764b",
   "metadata": {},
   "outputs": [],
   "source": []
  },
  {
   "cell_type": "code",
   "execution_count": null,
   "id": "a88cccfc",
   "metadata": {},
   "outputs": [],
   "source": []
  },
  {
   "cell_type": "code",
   "execution_count": null,
   "id": "48d941c9",
   "metadata": {},
   "outputs": [],
   "source": []
  },
  {
   "cell_type": "code",
   "execution_count": null,
   "id": "ee67562f",
   "metadata": {},
   "outputs": [],
   "source": []
  }
 ],
 "metadata": {
  "kernelspec": {
   "display_name": "Python 3",
   "language": "python",
   "name": "python3"
  },
  "language_info": {
   "codemirror_mode": {
    "name": "ipython",
    "version": 3
   },
   "file_extension": ".py",
   "mimetype": "text/x-python",
   "name": "python",
   "nbconvert_exporter": "python",
   "pygments_lexer": "ipython3",
   "version": "3.8.10"
  }
 },
 "nbformat": 4,
 "nbformat_minor": 5
}
