{
 "cells": [
  {
   "cell_type": "code",
   "execution_count": 90,
   "id": "96da10b7",
   "metadata": {},
   "outputs": [],
   "source": [
    "def is_even(n):\n",
    "    if n % 2 == 0:\n",
    "        return True\n"
   ]
  },
  {
   "cell_type": "code",
   "execution_count": 91,
   "id": "6aa88000",
   "metadata": {},
   "outputs": [
    {
     "data": {
      "text/plain": [
       "True"
      ]
     },
     "execution_count": 91,
     "metadata": {},
     "output_type": "execute_result"
    }
   ],
   "source": [
    "is_even(2)"
   ]
  },
  {
   "cell_type": "code",
   "execution_count": 92,
   "id": "a8b0e8cf",
   "metadata": {},
   "outputs": [],
   "source": [
    "is_even(3)"
   ]
  },
  {
   "cell_type": "code",
   "execution_count": 21,
   "id": "10cdef95",
   "metadata": {},
   "outputs": [],
   "source": [
    "# function that is a countdown\n",
    "\n",
    "my_list = [1,2,3,4,5]\n",
    "\n",
    "def countdown_list(my_list):\n",
    "\n",
    "    for i in my_list[::-1]:\n",
    "        if i == 3:\n",
    "            break\n",
    "        print(i)\n",
    "        "
   ]
  },
  {
   "cell_type": "code",
   "execution_count": 22,
   "id": "045f8221",
   "metadata": {},
   "outputs": [
    {
     "name": "stdout",
     "output_type": "stream",
     "text": [
      "5\n",
      "4\n"
     ]
    }
   ],
   "source": [
    "countdown_list(my_list)"
   ]
  },
  {
   "cell_type": "code",
   "execution_count": 16,
   "id": "3c194de0",
   "metadata": {},
   "outputs": [
    {
     "name": "stdout",
     "output_type": "stream",
     "text": [
      "[5, 4, 3, 2, 1]\n"
     ]
    }
   ],
   "source": [
    "print(my_list[::-1])"
   ]
  },
  {
   "cell_type": "code",
   "execution_count": 69,
   "id": "77f81b81",
   "metadata": {},
   "outputs": [],
   "source": [
    "def say_hello(*args):\n",
    "    for i in range(len(args)):\n",
    "        print(f\"how are you {args[i]}\")\n"
   ]
  },
  {
   "cell_type": "code",
   "execution_count": 70,
   "id": "f0d76a3d",
   "metadata": {},
   "outputs": [
    {
     "name": "stdout",
     "output_type": "stream",
     "text": [
      "how are you tyler\n",
      "how are you matt\n",
      "how are you bob\n",
      "how are you maria\n",
      "how are you joan\n"
     ]
    }
   ],
   "source": [
    "say_hello(\"tyler\", \"matt\", \"bob\", 'maria', 'joan')"
   ]
  },
  {
   "cell_type": "code",
   "execution_count": 89,
   "id": "8cacd05f",
   "metadata": {},
   "outputs": [
    {
     "name": "stdout",
     "output_type": "stream",
     "text": [
      "gimme a number!12\n",
      "48\n"
     ]
    }
   ],
   "source": [
    "number = int(input(\"gimme a number!\"))\n",
    "print(number*4)"
   ]
  },
  {
   "cell_type": "code",
   "execution_count": 94,
   "id": "7db92ac0",
   "metadata": {},
   "outputs": [],
   "source": [
    "x = lambda num: num**2"
   ]
  },
  {
   "cell_type": "code",
   "execution_count": null,
   "id": "f4145616",
   "metadata": {},
   "outputs": [],
   "source": []
  }
 ],
 "metadata": {
  "kernelspec": {
   "display_name": "Python 3.8.8 64-bit ('base': conda)",
   "language": "python",
   "name": "python388jvsc74a57bd057d418549deb2b28c2bac4f6acf8fe5c78b0c3ba07880bf4f33452d12e17b367"
  },
  "language_info": {
   "codemirror_mode": {
    "name": "ipython",
    "version": 3
   },
   "file_extension": ".py",
   "mimetype": "text/x-python",
   "name": "python",
   "nbconvert_exporter": "python",
   "pygments_lexer": "ipython3",
   "version": "3.8.8"
  }
 },
 "nbformat": 4,
 "nbformat_minor": 5
}
